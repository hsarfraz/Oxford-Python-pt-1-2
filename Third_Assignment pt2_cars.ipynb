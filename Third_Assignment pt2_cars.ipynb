{
 "cells": [
  {
   "attachments": {},
   "cell_type": "markdown",
   "metadata": {},
   "source": [
    "# Third Assignment\n",
    "\n",
    "For this assignment you will have to identify a suitable dataset and implement a machine learning pipeline, comprising the following steps:\n",
    "\n",
    "* Presentation of the problem (6 points)\n",
    "* data exploration (4 points)\n",
    "* data preparation (10 points)\n",
    "* model selection: try 2 models (max 3) (20 points)\n",
    "* evaluation on test set (3 points)\n",
    "* conclusion commenting on the results and comparing the models (7 points)\n",
    "\n",
    "**Total: 50 points**\n",
    "\n",
    "Some possible datasets:\n",
    "* [Titanic dataset](https://www.kaggle.com/c/titanic): binary classification\n",
    "* [Wine dataset](https://www.kaggle.com/datasets/yasserh/wine-quality-dataset): multi-class classification/regression\n",
    "* [Abalone dataset](https://www.kaggle.com/datasets/rodolfomendes/abalone-dataset): regression\n",
    "* [California housing price](https://www.kaggle.com/datasets/camnugent/california-housing-prices): regression\n",
    "* [CIFAR-10](http://www.cs.toronto.edu/~kriz/cifar.html): multi-class classification in images\n",
    "\n",
    "Look for more on [Kaggle](https://www.kaggle.com/datasets) or elsewhere.\n",
    "\n",
    "**Deadline:** To be confirmed by the tutor - please see the date on our Canvas page.\n",
    "\n",
    "**Submission:** Please email your solutions and your completed Declaration of Authorship (DoA) form to weeklyclasses@conted.ox.ac.uk "
   ]
  },
  {
   "cell_type": "markdown",
   "metadata": {},
   "source": [
    "# Presentation of the problem (6 points)\n",
    "\n",
    "For this assignment, I decided to create a machine learning model that can predict which country their car was manufactured in. Although many people could instantly know which country their car was manufactured through their car model I wanted to create this classifier as something that someone can use out of curiosity to see what country their car originated from. This classifier might be helpful for individuals who are not into cars that much and might not even know about different car models and where they are manufactured. Another potential application for this problem is for car part companies that store many different car parts. Having this classifier might help car repair companies perform a initial diagnosis of a individuals car (knowing where the car was manufactured could help with identifying what repair parts will be needed)\n",
    "\n",
    "To create this ML model I will be analysing the mpg dataset which contains information about 38 new car models which have been released every year from 1999 and 2008. I will be using the milers per gallon -mpg, car displacement, horsepower, and car weight. The reason why I picked these variables is because I believe that they might have a correlation with being manufactured at a specific country (for example cars manufactured from the US might have lower mpg or horsepower). I briefly explored the mpg dataset in the \"python part 1\" course and noticed that the US manufactured cars that had lower mpg's, displacements, etc when compared to other countries. Seeing these results sparked my curiosity to classification algorithm that can predict where a car is manufactured by just taking in a few stats about the car."
   ]
  },
  {
   "cell_type": "markdown",
   "metadata": {},
   "source": [
    "# data exploration (4 points)\n",
    "\n",
    "I have definded the dataset columns below and have also indicated what type of variable it is (ex. categorical or numerical):\n",
    "\n",
    "*   **mpg** -continuous numerical:\n",
    "      *   mpg means miles per gallon and it is the distance of each car measured in miles. It is referred to the *fuel economy* of a car since it represents the amount travelled by the car and the amount of fuel consumed. A *higher* mpg is better since it shows that your car can consume less fuel as you drive.\n",
    "*   **cylinders** -nominal categorical:\n",
    "      *   A car cylinder is a important part of the engine. This is where fuel is consumed and the car's energy is generated. If a car has *more* cylinders that means the cars power can be generated *faster*. However, there is a tradeoff to this since you need more fuel to generate more power. So if your care has more cylinders then you will end up paying for more fuel.\n",
    "*    **displacement** -continuous numerical:\n",
    "      *  A cars displacement refers to the amount of air that can be pushed into the cylinders. The higher the engine displacement the more power the engine can generate.\n",
    "*    **horsepower** -discrete numerical:\n",
    "      *  The cars horsepower is a measurment of how fast a cars engine can work. The more horsepower a car has the faster it can go\n",
    "*    **weight** -continuous numerical:\n",
    "      *  Car weight. The heavier a car, the more fuel it requires\n",
    "*    **acceleration** -continuous numerical:\n",
    "      *  Acceleration describes the rate at which the car can increase its speed. Having a high car acceleration will use more fuel\n",
    "*    **model_year** -ordinal categorical:\n",
    "      *  Gives the year the car was made/manufactured\n",
    "*    **origin** -nominal categorical:\n",
    "      *  Where the car was manufactured\n",
    "*    **name** -nominal categorical:\n",
    "      *  The car model"
   ]
  },
  {
   "cell_type": "code",
   "execution_count": null,
   "metadata": {},
   "outputs": [],
   "source": [
    "#installing the mpg python data package which contains information about fuel economy from 1999 and 2008 for 38 popular models of cars\n",
    "#pip install mpg"
   ]
  },
  {
   "cell_type": "code",
   "execution_count": 50,
   "metadata": {},
   "outputs": [
    {
     "data": {
      "text/html": [
       "<div>\n",
       "<style scoped>\n",
       "    .dataframe tbody tr th:only-of-type {\n",
       "        vertical-align: middle;\n",
       "    }\n",
       "\n",
       "    .dataframe tbody tr th {\n",
       "        vertical-align: top;\n",
       "    }\n",
       "\n",
       "    .dataframe thead th {\n",
       "        text-align: right;\n",
       "    }\n",
       "</style>\n",
       "<table border=\"1\" class=\"dataframe\">\n",
       "  <thead>\n",
       "    <tr style=\"text-align: right;\">\n",
       "      <th></th>\n",
       "      <th>mpg</th>\n",
       "      <th>cylinders</th>\n",
       "      <th>displacement</th>\n",
       "      <th>horsepower</th>\n",
       "      <th>weight</th>\n",
       "      <th>acceleration</th>\n",
       "      <th>model_year</th>\n",
       "      <th>origin</th>\n",
       "      <th>name</th>\n",
       "    </tr>\n",
       "  </thead>\n",
       "  <tbody>\n",
       "    <tr>\n",
       "      <th>0</th>\n",
       "      <td>18.0</td>\n",
       "      <td>8</td>\n",
       "      <td>307.0</td>\n",
       "      <td>130.0</td>\n",
       "      <td>3504</td>\n",
       "      <td>12.0</td>\n",
       "      <td>70</td>\n",
       "      <td>usa</td>\n",
       "      <td>chevrolet chevelle malibu</td>\n",
       "    </tr>\n",
       "    <tr>\n",
       "      <th>1</th>\n",
       "      <td>15.0</td>\n",
       "      <td>8</td>\n",
       "      <td>350.0</td>\n",
       "      <td>165.0</td>\n",
       "      <td>3693</td>\n",
       "      <td>11.5</td>\n",
       "      <td>70</td>\n",
       "      <td>usa</td>\n",
       "      <td>buick skylark 320</td>\n",
       "    </tr>\n",
       "    <tr>\n",
       "      <th>2</th>\n",
       "      <td>18.0</td>\n",
       "      <td>8</td>\n",
       "      <td>318.0</td>\n",
       "      <td>150.0</td>\n",
       "      <td>3436</td>\n",
       "      <td>11.0</td>\n",
       "      <td>70</td>\n",
       "      <td>usa</td>\n",
       "      <td>plymouth satellite</td>\n",
       "    </tr>\n",
       "    <tr>\n",
       "      <th>3</th>\n",
       "      <td>16.0</td>\n",
       "      <td>8</td>\n",
       "      <td>304.0</td>\n",
       "      <td>150.0</td>\n",
       "      <td>3433</td>\n",
       "      <td>12.0</td>\n",
       "      <td>70</td>\n",
       "      <td>usa</td>\n",
       "      <td>amc rebel sst</td>\n",
       "    </tr>\n",
       "    <tr>\n",
       "      <th>4</th>\n",
       "      <td>17.0</td>\n",
       "      <td>8</td>\n",
       "      <td>302.0</td>\n",
       "      <td>140.0</td>\n",
       "      <td>3449</td>\n",
       "      <td>10.5</td>\n",
       "      <td>70</td>\n",
       "      <td>usa</td>\n",
       "      <td>ford torino</td>\n",
       "    </tr>\n",
       "  </tbody>\n",
       "</table>\n",
       "</div>"
      ],
      "text/plain": [
       "    mpg  cylinders  displacement  horsepower  weight  acceleration  \\\n",
       "0  18.0          8         307.0       130.0    3504          12.0   \n",
       "1  15.0          8         350.0       165.0    3693          11.5   \n",
       "2  18.0          8         318.0       150.0    3436          11.0   \n",
       "3  16.0          8         304.0       150.0    3433          12.0   \n",
       "4  17.0          8         302.0       140.0    3449          10.5   \n",
       "\n",
       "   model_year origin                       name  \n",
       "0          70    usa  chevrolet chevelle malibu  \n",
       "1          70    usa          buick skylark 320  \n",
       "2          70    usa         plymouth satellite  \n",
       "3          70    usa              amc rebel sst  \n",
       "4          70    usa                ford torino  "
      ]
     },
     "execution_count": 50,
     "metadata": {},
     "output_type": "execute_result"
    }
   ],
   "source": [
    "import seaborn as sns\n",
    "mpg = sns.load_dataset(\"mpg\") #loading the dataset \n",
    "mpg[0:5]"
   ]
  },
  {
   "cell_type": "code",
   "execution_count": 3,
   "metadata": {},
   "outputs": [
    {
     "data": {
      "text/html": [
       "<div>\n",
       "<style scoped>\n",
       "    .dataframe tbody tr th:only-of-type {\n",
       "        vertical-align: middle;\n",
       "    }\n",
       "\n",
       "    .dataframe tbody tr th {\n",
       "        vertical-align: top;\n",
       "    }\n",
       "\n",
       "    .dataframe thead th {\n",
       "        text-align: right;\n",
       "    }\n",
       "</style>\n",
       "<table border=\"1\" class=\"dataframe\">\n",
       "  <thead>\n",
       "    <tr style=\"text-align: right;\">\n",
       "      <th></th>\n",
       "      <th>mpg</th>\n",
       "      <th>cylinders</th>\n",
       "      <th>displacement</th>\n",
       "      <th>horsepower</th>\n",
       "      <th>weight</th>\n",
       "      <th>acceleration</th>\n",
       "      <th>model_year</th>\n",
       "    </tr>\n",
       "  </thead>\n",
       "  <tbody>\n",
       "    <tr>\n",
       "      <th>count</th>\n",
       "      <td>398.000000</td>\n",
       "      <td>398.000000</td>\n",
       "      <td>398.000000</td>\n",
       "      <td>392.000000</td>\n",
       "      <td>398.000000</td>\n",
       "      <td>398.000000</td>\n",
       "      <td>398.000000</td>\n",
       "    </tr>\n",
       "    <tr>\n",
       "      <th>mean</th>\n",
       "      <td>23.514573</td>\n",
       "      <td>5.454774</td>\n",
       "      <td>193.425879</td>\n",
       "      <td>104.469388</td>\n",
       "      <td>2970.424623</td>\n",
       "      <td>15.568090</td>\n",
       "      <td>76.010050</td>\n",
       "    </tr>\n",
       "    <tr>\n",
       "      <th>std</th>\n",
       "      <td>7.815984</td>\n",
       "      <td>1.701004</td>\n",
       "      <td>104.269838</td>\n",
       "      <td>38.491160</td>\n",
       "      <td>846.841774</td>\n",
       "      <td>2.757689</td>\n",
       "      <td>3.697627</td>\n",
       "    </tr>\n",
       "    <tr>\n",
       "      <th>min</th>\n",
       "      <td>9.000000</td>\n",
       "      <td>3.000000</td>\n",
       "      <td>68.000000</td>\n",
       "      <td>46.000000</td>\n",
       "      <td>1613.000000</td>\n",
       "      <td>8.000000</td>\n",
       "      <td>70.000000</td>\n",
       "    </tr>\n",
       "    <tr>\n",
       "      <th>25%</th>\n",
       "      <td>17.500000</td>\n",
       "      <td>4.000000</td>\n",
       "      <td>104.250000</td>\n",
       "      <td>75.000000</td>\n",
       "      <td>2223.750000</td>\n",
       "      <td>13.825000</td>\n",
       "      <td>73.000000</td>\n",
       "    </tr>\n",
       "    <tr>\n",
       "      <th>50%</th>\n",
       "      <td>23.000000</td>\n",
       "      <td>4.000000</td>\n",
       "      <td>148.500000</td>\n",
       "      <td>93.500000</td>\n",
       "      <td>2803.500000</td>\n",
       "      <td>15.500000</td>\n",
       "      <td>76.000000</td>\n",
       "    </tr>\n",
       "    <tr>\n",
       "      <th>75%</th>\n",
       "      <td>29.000000</td>\n",
       "      <td>8.000000</td>\n",
       "      <td>262.000000</td>\n",
       "      <td>126.000000</td>\n",
       "      <td>3608.000000</td>\n",
       "      <td>17.175000</td>\n",
       "      <td>79.000000</td>\n",
       "    </tr>\n",
       "    <tr>\n",
       "      <th>max</th>\n",
       "      <td>46.600000</td>\n",
       "      <td>8.000000</td>\n",
       "      <td>455.000000</td>\n",
       "      <td>230.000000</td>\n",
       "      <td>5140.000000</td>\n",
       "      <td>24.800000</td>\n",
       "      <td>82.000000</td>\n",
       "    </tr>\n",
       "  </tbody>\n",
       "</table>\n",
       "</div>"
      ],
      "text/plain": [
       "              mpg   cylinders  displacement  horsepower       weight  \\\n",
       "count  398.000000  398.000000    398.000000  392.000000   398.000000   \n",
       "mean    23.514573    5.454774    193.425879  104.469388  2970.424623   \n",
       "std      7.815984    1.701004    104.269838   38.491160   846.841774   \n",
       "min      9.000000    3.000000     68.000000   46.000000  1613.000000   \n",
       "25%     17.500000    4.000000    104.250000   75.000000  2223.750000   \n",
       "50%     23.000000    4.000000    148.500000   93.500000  2803.500000   \n",
       "75%     29.000000    8.000000    262.000000  126.000000  3608.000000   \n",
       "max     46.600000    8.000000    455.000000  230.000000  5140.000000   \n",
       "\n",
       "       acceleration  model_year  \n",
       "count    398.000000  398.000000  \n",
       "mean      15.568090   76.010050  \n",
       "std        2.757689    3.697627  \n",
       "min        8.000000   70.000000  \n",
       "25%       13.825000   73.000000  \n",
       "50%       15.500000   76.000000  \n",
       "75%       17.175000   79.000000  \n",
       "max       24.800000   82.000000  "
      ]
     },
     "execution_count": 3,
     "metadata": {},
     "output_type": "execute_result"
    }
   ],
   "source": [
    "mpg.describe() #creating the summary statistic for the data"
   ]
  },
  {
   "cell_type": "markdown",
   "metadata": {},
   "source": [
    "# data preparation (10 points)\n",
    "\n",
    "To prepare the data I am first going to remove the columns that I don't need/will not use for analysis"
   ]
  },
  {
   "cell_type": "code",
   "execution_count": 51,
   "metadata": {},
   "outputs": [
    {
     "data": {
      "text/html": [
       "<div>\n",
       "<style scoped>\n",
       "    .dataframe tbody tr th:only-of-type {\n",
       "        vertical-align: middle;\n",
       "    }\n",
       "\n",
       "    .dataframe tbody tr th {\n",
       "        vertical-align: top;\n",
       "    }\n",
       "\n",
       "    .dataframe thead th {\n",
       "        text-align: right;\n",
       "    }\n",
       "</style>\n",
       "<table border=\"1\" class=\"dataframe\">\n",
       "  <thead>\n",
       "    <tr style=\"text-align: right;\">\n",
       "      <th></th>\n",
       "      <th>mpg</th>\n",
       "      <th>displacement</th>\n",
       "      <th>horsepower</th>\n",
       "      <th>weight</th>\n",
       "      <th>origin</th>\n",
       "    </tr>\n",
       "  </thead>\n",
       "  <tbody>\n",
       "    <tr>\n",
       "      <th>0</th>\n",
       "      <td>18.0</td>\n",
       "      <td>307.0</td>\n",
       "      <td>130.0</td>\n",
       "      <td>3504</td>\n",
       "      <td>usa</td>\n",
       "    </tr>\n",
       "    <tr>\n",
       "      <th>1</th>\n",
       "      <td>15.0</td>\n",
       "      <td>350.0</td>\n",
       "      <td>165.0</td>\n",
       "      <td>3693</td>\n",
       "      <td>usa</td>\n",
       "    </tr>\n",
       "    <tr>\n",
       "      <th>2</th>\n",
       "      <td>18.0</td>\n",
       "      <td>318.0</td>\n",
       "      <td>150.0</td>\n",
       "      <td>3436</td>\n",
       "      <td>usa</td>\n",
       "    </tr>\n",
       "    <tr>\n",
       "      <th>3</th>\n",
       "      <td>16.0</td>\n",
       "      <td>304.0</td>\n",
       "      <td>150.0</td>\n",
       "      <td>3433</td>\n",
       "      <td>usa</td>\n",
       "    </tr>\n",
       "    <tr>\n",
       "      <th>4</th>\n",
       "      <td>17.0</td>\n",
       "      <td>302.0</td>\n",
       "      <td>140.0</td>\n",
       "      <td>3449</td>\n",
       "      <td>usa</td>\n",
       "    </tr>\n",
       "  </tbody>\n",
       "</table>\n",
       "</div>"
      ],
      "text/plain": [
       "    mpg  displacement  horsepower  weight origin\n",
       "0  18.0         307.0       130.0    3504    usa\n",
       "1  15.0         350.0       165.0    3693    usa\n",
       "2  18.0         318.0       150.0    3436    usa\n",
       "3  16.0         304.0       150.0    3433    usa\n",
       "4  17.0         302.0       140.0    3449    usa"
      ]
     },
     "execution_count": 51,
     "metadata": {},
     "output_type": "execute_result"
    }
   ],
   "source": [
    "mpg = mpg.loc[:, ['mpg', 'displacement', 'horsepower', 'weight', 'origin']]\n",
    "mpg.head(5)"
   ]
  },
  {
   "cell_type": "markdown",
   "metadata": {},
   "source": [
    "I am checking to see if there are any missing/NA values in any of the columns. I notice that the horsepower column has NA values so I need to impute the values in the column and replace the NA values with a huge negative number like -999 so that the ML model can learn that these are NA values. My second option is to remove these rows from the dataset.\n",
    "\n",
    "I checked and the number of NA values in the horsepower column is 6 so I decided to remove those rows since they did not affect a huge portion of the dataset/sample."
   ]
  },
  {
   "cell_type": "code",
   "execution_count": 52,
   "metadata": {},
   "outputs": [
    {
     "name": "stdout",
     "output_type": "stream",
     "text": [
      "mpg column:  [False] \n",
      " displacement column:  [False] \n",
      " horsepower column:  [False  True] \n",
      " weight column:  [False] \n",
      " origin column:  [False]\n",
      "\n",
      "Number of NA values in horepower column:  6\n",
      "Number of non-NA values in horspower column:  392\n",
      "Total number of rows in dataset:  398\n"
     ]
    }
   ],
   "source": [
    "print('mpg column: ', mpg['mpg'].isna().unique(), '\\n',\n",
    "    'displacement column: ', mpg['displacement'].isna().unique(),'\\n',\n",
    "     'horsepower column: ', mpg['horsepower'].isna().unique(), '\\n',\n",
    "     'weight column: ', mpg['weight'].isna().unique(), '\\n',\n",
    "     'origin column: ', mpg['origin'].isna().unique())\n",
    "\n",
    "print()\n",
    "\n",
    "print('Number of NA values in horepower column: ', mpg['horsepower'].isna().sum())\n",
    "print('Number of non-NA values in horspower column: ',mpg['horsepower'].count())\n",
    "print('Total number of rows in dataset: ',mpg['horsepower'].size)"
   ]
  },
  {
   "cell_type": "code",
   "execution_count": 53,
   "metadata": {},
   "outputs": [
    {
     "name": "stdout",
     "output_type": "stream",
     "text": [
      "\n",
      "Number of NA values in horepower column:  0\n",
      "Number of non-NA values in horspower column:  392\n",
      "Total number of rows in dataset:  392\n"
     ]
    }
   ],
   "source": [
    "mpg = mpg[mpg['horsepower'].notna()]\n",
    "print()\n",
    "print('Number of NA values in horepower column: ', mpg['horsepower'].isna().sum())\n",
    "print('Number of non-NA values in horspower column: ',mpg['horsepower'].count())\n",
    "print('Total number of rows in dataset: ',mpg['horsepower'].size)"
   ]
  },
  {
   "cell_type": "markdown",
   "metadata": {},
   "source": [
    "I am going to print out the unique values in the origin column and will label these values numerically since it is good practice to label the categories by number."
   ]
  },
  {
   "cell_type": "code",
   "execution_count": 54,
   "metadata": {},
   "outputs": [
    {
     "name": "stdout",
     "output_type": "stream",
     "text": [
      "['usa' 'japan' 'europe']\n"
     ]
    }
   ],
   "source": [
    "print(mpg['origin'].unique()) #checking to see how many countries are represented in this dataset\n",
    "\n",
    "mpg['origin'] = mpg['origin'].replace({'usa': 0, 'japan': 1, 'europe': 2})"
   ]
  },
  {
   "cell_type": "code",
   "execution_count": 56,
   "metadata": {},
   "outputs": [
    {
     "name": "stdout",
     "output_type": "stream",
     "text": [
      "[0 1 2]\n"
     ]
    }
   ],
   "source": [
    "print(mpg['origin'].unique())"
   ]
  },
  {
   "cell_type": "markdown",
   "metadata": {},
   "source": [
    "I am now going to split the training and testing data"
   ]
  },
  {
   "cell_type": "code",
   "execution_count": 55,
   "metadata": {},
   "outputs": [],
   "source": [
    "from sklearn.model_selection import train_test_split\n",
    "from sklearn.preprocessing import MinMaxScaler\n",
    "\n",
    "#creating training and test data\n",
    "features = mpg[['mpg', 'displacement', 'horsepower', 'weight']]\n",
    "target = mpg['origin']\n",
    "\n",
    "#data split\n",
    "X_train, X_test, y_train, y_test = train_test_split(features, target, test_size=0.2, random_state=42, stratify = target)\n",
    "\n",
    "#feature scaling\n",
    "scaler_minmax = MinMaxScaler()#importing the scaler\n",
    "\n",
    "X_train_scaled = scaler_minmax.fit_transform(X_train)\n",
    "X_test_scaled = scaler_minmax.fit_transform(X_test)"
   ]
  },
  {
   "cell_type": "markdown",
   "metadata": {},
   "source": [
    "# model selection: try 2 models (max 3) (20 points)"
   ]
  },
  {
   "cell_type": "markdown",
   "metadata": {},
   "source": [
    "I will be using logistic regression, random forests, and Support Vector Machines -SVM to implement my classifier. I will first run the results on the training data and then the test data and will share my findings/conclusions at the end."
   ]
  },
  {
   "cell_type": "markdown",
   "metadata": {},
   "source": [
    "## Logistic Regression"
   ]
  },
  {
   "cell_type": "code",
   "execution_count": 74,
   "metadata": {},
   "outputs": [
    {
     "name": "stdout",
     "output_type": "stream",
     "text": [
      "Logistic Regression Accuracy: 0.70\n",
      "\n",
      "Confusion Matrix on training set:\n",
      " [[178  18   0]\n",
      " [ 20  41   2]\n",
      " [ 26  27   1]]\n",
      "\n",
      "Classification Report on training set:\n",
      "               precision    recall  f1-score   support\n",
      "\n",
      "           0       0.79      0.91      0.85       196\n",
      "           1       0.48      0.65      0.55        63\n",
      "           2       0.33      0.02      0.04        54\n",
      "\n",
      "    accuracy                           0.70       313\n",
      "   macro avg       0.53      0.53      0.48       313\n",
      "weighted avg       0.65      0.70      0.65       313\n",
      "\n"
     ]
    }
   ],
   "source": [
    "from sklearn.linear_model import LogisticRegression\n",
    "from sklearn.metrics import accuracy_score, classification_report, confusion_matrix\n",
    "\n",
    "# Initialize the model\n",
    "logreg_model = LogisticRegression(multi_class='auto', solver='lbfgs')\n",
    "logreg_model.fit(X_train_scaled, y_train) # Fit the model to the training data\n",
    "y_pred_logreg = logreg_model.predict(X_train_scaled) # Make predictions on training\n",
    "\n",
    "# Evaluate the model on training data\n",
    "accuracy = accuracy_score(y_train, y_pred_logreg)\n",
    "print(f\"Logistic Regression Accuracy: {accuracy:.2f}\")\n",
    "\n",
    "print(\"\\nConfusion Matrix on training set:\\n\", confusion_matrix(y_train, y_pred_logreg))\n",
    "print(\"\\nClassification Report on training set:\\n\", classification_report(y_train, y_pred_logreg))"
   ]
  },
  {
   "cell_type": "markdown",
   "metadata": {},
   "source": [
    "## Random Forests"
   ]
  },
  {
   "cell_type": "code",
   "execution_count": 65,
   "metadata": {},
   "outputs": [
    {
     "name": "stdout",
     "output_type": "stream",
     "text": [
      "Random Forest Classifier Accuracy: 1.00\n",
      "\n",
      "Confusion Matrix on training set:\n",
      " [[196   0   0]\n",
      " [  0  63   0]\n",
      " [  0   0  54]]\n",
      "\n",
      "Classification Report on training set:\n",
      "               precision    recall  f1-score   support\n",
      "\n",
      "           0       1.00      1.00      1.00       196\n",
      "           1       1.00      1.00      1.00        63\n",
      "           2       1.00      1.00      1.00        54\n",
      "\n",
      "    accuracy                           1.00       313\n",
      "   macro avg       1.00      1.00      1.00       313\n",
      "weighted avg       1.00      1.00      1.00       313\n",
      "\n"
     ]
    }
   ],
   "source": [
    "from sklearn.ensemble import RandomForestClassifier\n",
    "\n",
    "# Initialize the model\n",
    "rf_classifier = RandomForestClassifier(n_estimators=100, random_state=42)\n",
    "rf_classifier.fit(X_train_scaled, y_train) # Fit the model to the training data\n",
    "y_pred_rf = rf_classifier.predict(X_train_scaled) # Make predictions on training\n",
    "\n",
    "# Evaluate the model on traing data\n",
    "accuracy_rf = accuracy_score(y_train, y_pred_rf)\n",
    "print(f\"Random Forest Classifier Accuracy: {accuracy_rf:.2f}\")\n",
    "\n",
    "print(\"\\nConfusion Matrix on training set:\\n\", confusion_matrix(y_train, y_pred_rf))\n",
    "print(\"\\nClassification Report on training set:\\n\", classification_report(y_train, y_pred_rf))"
   ]
  },
  {
   "cell_type": "markdown",
   "metadata": {},
   "source": [
    "## Support Vector Machines (SVM)"
   ]
  },
  {
   "cell_type": "code",
   "execution_count": 73,
   "metadata": {},
   "outputs": [
    {
     "name": "stdout",
     "output_type": "stream",
     "text": [
      "SVM Classifier Accuracy: 0.69\n",
      "\n",
      "Confusion Matrix on training set:\n",
      " [[175  21   0]\n",
      " [ 22  41   0]\n",
      " [ 24  30   0]]\n",
      "\n",
      "Classification Report on training set:\n",
      "               precision    recall  f1-score   support\n",
      "\n",
      "           0       0.79      0.89      0.84       196\n",
      "           1       0.45      0.65      0.53        63\n",
      "           2       0.00      0.00      0.00        54\n",
      "\n",
      "    accuracy                           0.69       313\n",
      "   macro avg       0.41      0.51      0.46       313\n",
      "weighted avg       0.59      0.69      0.63       313\n",
      "\n"
     ]
    }
   ],
   "source": [
    "from sklearn.svm import SVC\n",
    "\n",
    "# Initialize the model\n",
    "svm_classifier = SVC(kernel='linear')\n",
    "svm_classifier.fit(X_train_scaled, y_train) # Fit the model to the training data\n",
    "y_pred_svm = svm_classifier.predict(X_train_scaled) # Make predictions on training data\n",
    "\n",
    "# Evaluate the model\n",
    "accuracy_svm = accuracy_score(y_train, y_pred_svm)\n",
    "print(f\"SVM Classifier Accuracy: {accuracy_svm:.2f}\")\n",
    "\n",
    "print(\"\\nConfusion Matrix on training set:\\n\", confusion_matrix(y_train, y_pred_svm))\n",
    "print(\"\\nClassification Report on training set:\\n\", classification_report(y_train, y_pred_svm,zero_division=0))"
   ]
  },
  {
   "cell_type": "markdown",
   "metadata": {},
   "source": [
    "# evaluation on test set (3 points)"
   ]
  },
  {
   "cell_type": "markdown",
   "metadata": {},
   "source": [
    "## Logistic Regression"
   ]
  },
  {
   "cell_type": "code",
   "execution_count": 71,
   "metadata": {},
   "outputs": [
    {
     "name": "stdout",
     "output_type": "stream",
     "text": [
      "Logistic Regression Accuracy: 0.70\n",
      "\n",
      "Confusion Matrix on training set:\n",
      " [[46  3  0]\n",
      " [ 7  9  0]\n",
      " [10  4  0]]\n",
      "\n",
      "Classification Report on training set:\n",
      "               precision    recall  f1-score   support\n",
      "\n",
      "           0       0.73      0.94      0.82        49\n",
      "           1       0.56      0.56      0.56        16\n",
      "           2       0.00      0.00      0.00        14\n",
      "\n",
      "    accuracy                           0.70        79\n",
      "   macro avg       0.43      0.50      0.46        79\n",
      "weighted avg       0.57      0.70      0.62        79\n",
      "\n"
     ]
    }
   ],
   "source": [
    "y_pred_logreg_test = logreg_model.predict(X_test_scaled) # Make predictions on test data\n",
    "\n",
    "# Evaluate the model on training data\n",
    "accuracy = accuracy_score(y_test, y_pred_logreg_test)\n",
    "print(f\"Logistic Regression Accuracy: {accuracy:.2f}\")\n",
    "\n",
    "print(\"\\nConfusion Matrix on training set:\\n\", confusion_matrix(y_test, y_pred_logreg_test))\n",
    "print(\"\\nClassification Report on training set:\\n\", classification_report(y_test, y_pred_logreg_test,zero_division=0))"
   ]
  },
  {
   "cell_type": "markdown",
   "metadata": {},
   "source": [
    "## Random Forsests"
   ]
  },
  {
   "cell_type": "code",
   "execution_count": 69,
   "metadata": {},
   "outputs": [
    {
     "name": "stdout",
     "output_type": "stream",
     "text": [
      "Random Forest Classifier Accuracy: 0.75\n",
      "\n",
      "Confusion Matrix on training set:\n",
      " [[49  0  0]\n",
      " [ 7  7  2]\n",
      " [ 4  7  3]]\n",
      "\n",
      "Classification Report on training set:\n",
      "               precision    recall  f1-score   support\n",
      "\n",
      "           0       0.82      1.00      0.90        49\n",
      "           1       0.50      0.44      0.47        16\n",
      "           2       0.60      0.21      0.32        14\n",
      "\n",
      "    accuracy                           0.75        79\n",
      "   macro avg       0.64      0.55      0.56        79\n",
      "weighted avg       0.71      0.75      0.71        79\n",
      "\n"
     ]
    }
   ],
   "source": [
    "y_pred_rf_test = rf_classifier.predict(X_test_scaled) # Make predictions on test data\n",
    "\n",
    "# Evaluate the model on traing data\n",
    "accuracy_rf = accuracy_score(y_test, y_pred_rf_test)\n",
    "print(f\"Random Forest Classifier Accuracy: {accuracy_rf:.2f}\")\n",
    "\n",
    "print(\"\\nConfusion Matrix on training set:\\n\", confusion_matrix(y_test, y_pred_rf_test))\n",
    "print(\"\\nClassification Report on training set:\\n\", classification_report(y_test, y_pred_rf_test))"
   ]
  },
  {
   "cell_type": "markdown",
   "metadata": {},
   "source": [
    "## Support Vector Machines (SVM)"
   ]
  },
  {
   "cell_type": "code",
   "execution_count": 72,
   "metadata": {},
   "outputs": [
    {
     "name": "stdout",
     "output_type": "stream",
     "text": [
      "SVM Classifier Accuracy: 0.70\n",
      "\n",
      "Confusion Matrix on training set:\n",
      " [[46  3  0]\n",
      " [ 7  9  0]\n",
      " [10  4  0]]\n",
      "\n",
      "Classification Report on training set:\n",
      "               precision    recall  f1-score   support\n",
      "\n",
      "           0       0.73      0.94      0.82        49\n",
      "           1       0.56      0.56      0.56        16\n",
      "           2       0.00      0.00      0.00        14\n",
      "\n",
      "    accuracy                           0.70        79\n",
      "   macro avg       0.43      0.50      0.46        79\n",
      "weighted avg       0.57      0.70      0.62        79\n",
      "\n"
     ]
    }
   ],
   "source": [
    "# Make predictions on training data\n",
    "y_pred_svm_test = svm_classifier.predict(X_test_scaled)\n",
    "\n",
    "# Evaluate the model\n",
    "accuracy_svm = accuracy_score(y_test, y_pred_svm_test)\n",
    "print(f\"SVM Classifier Accuracy: {accuracy_svm:.2f}\")\n",
    "\n",
    "print(\"\\nConfusion Matrix on training set:\\n\", confusion_matrix(y_test, y_pred_svm_test))\n",
    "print(\"\\nClassification Report on training set:\\n\", classification_report(y_test, y_pred_svm_test,zero_division=0))"
   ]
  },
  {
   "cell_type": "markdown",
   "metadata": {},
   "source": [
    "# conclusion commenting on the results and comparing the models (7 points)\n",
    "\n",
    "Before I share my analysis I want to show the results of the model accuracy score, the confusion matrix results, and F1 scores in tables below. "
   ]
  },
  {
   "cell_type": "markdown",
   "metadata": {},
   "source": [
    "### Accuracy Score\n",
    "\n",
    "| Data | Logistic Regression | Random Forest | Support Vector Machine (SVM) |\n",
    "| ---  | --- | --- | --- |\n",
    "| Training Data | 0.70 | 1.00 | 0.69 |\n",
    "| Testing Data | 0.70 | 0.75 | 0.70 |\n",
    "| Difference | 0 | -0.25 | +0.01 |"
   ]
  },
  {
   "cell_type": "markdown",
   "metadata": {},
   "source": [
    "### Confusion Matrix Results\n",
    "\n",
    "** I am only displaying the correctly classified results of model in this table. The order of the results is USA-Japan-Europe\n",
    "\n",
    "| Data | Logistic Regression | Random Forest | Support Vector Machine (SVM) |\n",
    "| ---  | --- | --- | --- |\n",
    "| Training Data | 178--41--1 | 196--63--54 | 175--41--0 |\n",
    "| Testing Data | 46--9--0 | 49--7--3 | 46--9--0 |"
   ]
  },
  {
   "cell_type": "markdown",
   "metadata": {},
   "source": [
    "### F1 Score Results\n",
    "\n",
    "The order of the results is USA-Japan-Europe\n",
    "\n",
    "| Data | Logistic Regression | Random Forest | Support Vector Machine (SVM) |\n",
    "| ---  | --- | --- | --- |\n",
    "| Training Data | 0.85--0.55--0.04 | 1--1--1 | 0.84--0.53--0 |\n",
    "| Testing Data | 0.82--0.56--0 | 0.75--0.47--0.32 | 0.82--0.56--0 |"
   ]
  },
  {
   "cell_type": "markdown",
   "metadata": {},
   "source": [
    "### Conclusions and Analysis\n",
    "\n",
    "After looking and analysing the results of each classification model I would say that the Random Forest classfier was the best model to correctly classify all of the car's country of manufactuting. First off, the Random Forest classifier has a accuracy score of 1 on the training data which was suprising since I never imagined that it would be able to correctly classify all of the car's country of origin. Even though the Random Forest accuracy decreased on the test data by 0.25 the accuracy was still the highest compared to the logistic regression and SVM (although the accuracy scores of these two algorithms were not far off from the random forest since they were both 0.70).\n",
    "\n",
    "I was leaning towards saying that all of the models were fairly accurate since on the test data, the accuracy scores were not too far off. But when looking at the confusion matrix results I realised that none of the models was able to correctly classify the cars that were manufactured in Europe. The Random Forest classifier was able to correctly identify Europe as the car's manufactured place in both, the training and test datasets. Similarily, you notice that the F1 scores for Europe in the Random Forest classifier is the highest in the training and testing data while the logistic regression and SVM both had a F1 score of zero for Europe."
   ]
  }
 ],
 "metadata": {
  "kernelspec": {
   "display_name": "Python 3 (ipykernel)",
   "language": "python",
   "name": "python3"
  },
  "language_info": {
   "codemirror_mode": {
    "name": "ipython",
    "version": 3
   },
   "file_extension": ".py",
   "mimetype": "text/x-python",
   "name": "python",
   "nbconvert_exporter": "python",
   "pygments_lexer": "ipython3",
   "version": "3.11.5"
  },
  "vscode": {
   "interpreter": {
    "hash": "867df1ee534d26f2c7c906fca85dfba438b7170d4a41fa95ef57b9d1241c9022"
   }
  }
 },
 "nbformat": 4,
 "nbformat_minor": 4
}
