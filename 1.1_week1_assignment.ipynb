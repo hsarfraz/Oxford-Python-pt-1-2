{
 "cells": [
  {
   "cell_type": "markdown",
   "id": "1eba3b72",
   "metadata": {},
   "source": [
    "# 01 Python Basics \n",
    "ND May 2023"
   ]
  },
  {
   "cell_type": "markdown",
   "id": "dd38cc99",
   "metadata": {},
   "source": [
    "#### This Jupyter Notebook contains exercises for you to practice the basics of Python. You'll see a mixture of markdown cells and interactive code cells. Attempt the following exercises, which slowly build in complexity. If you get stuck, check back to the <a href = \"https://www.youtube.com/watch?v=9yCSlN2VLSQ\">introductory Python lecture recording here</a> or look through the <a href = \"https://www.python.org\">Python documentation here</a>."
   ]
  },
  {
   "cell_type": "markdown",
   "id": "6e5075e1",
   "metadata": {},
   "source": [
    "### Exercise 1:\n",
    "\n",
    "Write a line of code in Python that prints 'Hello World' to the screen."
   ]
  },
  {
   "cell_type": "code",
   "execution_count": 1,
   "id": "1c93996b",
   "metadata": {
    "scrolled": true
   },
   "outputs": [
    {
     "name": "stdout",
     "output_type": "stream",
     "text": [
      "Hello World\n"
     ]
    }
   ],
   "source": [
    "# Write your Python code in this interactive code cell and 'run' the code to check it works.\n",
    "\n",
    "print('Hello World')"
   ]
  },
  {
   "cell_type": "markdown",
   "id": "3ebccf84",
   "metadata": {},
   "source": [
    "### Exercise 2:\n",
    "Now declare a variable called name. Assign your firstname as the value for this variable. Print this value to the screen to check that it has been assigned to the variable."
   ]
  },
  {
   "cell_type": "code",
   "execution_count": 2,
   "id": "0cadfab5",
   "metadata": {},
   "outputs": [
    {
     "name": "stdout",
     "output_type": "stream",
     "text": [
      "Hussain\n"
     ]
    }
   ],
   "source": [
    "name = 'Hussain'\n",
    "print(name)"
   ]
  },
  {
   "cell_type": "markdown",
   "id": "32bfa255",
   "metadata": {},
   "source": [
    "### Exercise 3:\n",
    "\n",
    "Now declare two variables. Assign the value 10 to the first variable. Then assign the value 40 to the second variable. Then add the variables together and print out the result."
   ]
  },
  {
   "cell_type": "code",
   "execution_count": 3,
   "id": "942a91d0",
   "metadata": {
    "scrolled": true
   },
   "outputs": [
    {
     "name": "stdout",
     "output_type": "stream",
     "text": [
      "50\n"
     ]
    }
   ],
   "source": [
    "ten = 10\n",
    "fourty = 40\n",
    "print(ten + fourty)"
   ]
  },
  {
   "cell_type": "markdown",
   "id": "42004548",
   "metadata": {},
   "source": [
    "### Exercise 4: \n",
    "Providing you have completed the previous two exercises, you should have three variables with assigned values. Now write code in the cell below which will print out the individual values for these variables declared previously. In terms of formatting, print out one value for each line. You could use the '\\n' escape character for a 'new line'\n",
    "\n",
    "Note: You won't need to re-declare these variables as the values should still be stored in memory until the session is closed."
   ]
  },
  {
   "cell_type": "code",
   "execution_count": 93,
   "id": "93304814",
   "metadata": {},
   "outputs": [
    {
     "name": "stdout",
     "output_type": "stream",
     "text": [
      "Hussain \n",
      " 10 \n",
      " 40\n"
     ]
    }
   ],
   "source": [
    "print(name,'\\n', ten,'\\n', fourty)"
   ]
  },
  {
   "cell_type": "markdown",
   "id": "7d697f44",
   "metadata": {},
   "source": [
    "### Exericse 5:\n",
    "Now use a function in Python to ask the user to enter their name. This name should be stored in an appropriate variable. Once stored, print the value of this variable (what the user entered) to the screen."
   ]
  },
  {
   "cell_type": "code",
   "execution_count": 94,
   "id": "c6a148e5",
   "metadata": {},
   "outputs": [
    {
     "name": "stdout",
     "output_type": "stream",
     "text": [
      "Enter your name: Hussain\n",
      "Hussain\n"
     ]
    }
   ],
   "source": [
    "user_name = input(\"Enter your name: \")\n",
    "print(user_name)"
   ]
  },
  {
   "cell_type": "markdown",
   "id": "f02de2c2",
   "metadata": {},
   "source": [
    "### Exercise 6: \n",
    "Now ask the user to enter two numbers, and store these inputs in two variables. Once stored, print out the average of the two numbers.\n",
    "\n",
    "Hint: If you get stuck, first check which type of data is being returned from the Python function."
   ]
  },
  {
   "cell_type": "code",
   "execution_count": 14,
   "id": "22b02237",
   "metadata": {},
   "outputs": [
    {
     "name": "stdout",
     "output_type": "stream",
     "text": [
      "Enter the first number:2\n",
      "Enter the second number:2\n",
      "2.0\n"
     ]
    }
   ],
   "source": [
    "num_one = int(input('Enter the first number:'))\n",
    "num_two = int(input('Enter the second number:'))\n",
    "print((num_one+num_two)/2)"
   ]
  },
  {
   "cell_type": "markdown",
   "id": "84a47670",
   "metadata": {},
   "source": [
    "### Exercise 7:\n",
    "Design a program that asks the user to enter values for the length and height of a rectangle and then outputs the perimeter and area of the rectangle to the screen.\n",
    "\n",
    "Extension: ask the user to also type in a unit: cm, m, inches etc. Include this unit in the output. "
   ]
  },
  {
   "cell_type": "code",
   "execution_count": 16,
   "id": "e32e93c8",
   "metadata": {},
   "outputs": [
    {
     "name": "stdout",
     "output_type": "stream",
     "text": [
      "Enter a rectangle length:3\n",
      "Enter a rectangle height:3\n",
      "Please enter the unit of measurement (cm, m, inches):m\n",
      "Rectangle Perimeter: 12 m \n",
      " Rectangle Area: 9 m\n"
     ]
    }
   ],
   "source": [
    "rectangle_length = int(input('Enter a rectangle length:'))\n",
    "rectangle_height = int(input('Enter a rectangle height:'))\n",
    "length_unit = input('Please enter the unit of measurement (cm, m, inches):')\n",
    "print('Rectangle Perimeter:', (2*rectangle_length)+(2*rectangle_height), length_unit,'\\n',\n",
    "      'Rectangle Area:', rectangle_length * rectangle_height, length_unit)"
   ]
  },
  {
   "cell_type": "markdown",
   "id": "07c657a6",
   "metadata": {},
   "source": [
    "### Exercise 8:\n",
    "\n",
    "Write a script that will convert miles to feet. First ask the user to enter a quantity of miles. Store this in an appropriate variable. Then convert and output (print) the number of feet to the screen. Test this for a number of inputs to check the conversion works correctly.\n",
    "\n",
    "For reference, there are 5280 feet in 1.0 mile. \n",
    "\n",
    "Extension: Also ask the user to enter the same number of feet and check this converts back to the original number of miles."
   ]
  },
  {
   "cell_type": "code",
   "execution_count": 19,
   "id": "b12c7cd7",
   "metadata": {},
   "outputs": [
    {
     "name": "stdout",
     "output_type": "stream",
     "text": [
      "Enter a number in miles:3\n",
      "The conversion of miles to feet is: 15840 ft\n",
      "Enter a number in feet:15840\n",
      "The conversion of feet to miles is: 3.0 miles\n"
     ]
    }
   ],
   "source": [
    "miles = int(input('Enter a number in miles:'))\n",
    "print('The conversion of miles to feet is:', miles * 5280, 'ft')\n",
    "\n",
    "feet = int(input('Enter a number in feet:'))\n",
    "print('The conversion of feet to miles is:', feet /5280, 'miles')"
   ]
  },
  {
   "cell_type": "markdown",
   "id": "11077868",
   "metadata": {},
   "source": [
    "### Exercise 9:\n",
    "\n",
    "Write a program that will calculate the how much interest will paid on money invested in a savings account. Select an appropriate interest rate (based on the current markets at time of reading) and consider how you will represent this in your program. The user should enter the deposit amount and the program should display how much money the user will have after the interest is paid at the end of the year.\n",
    "\n",
    "Extension: Think about the appropriate formatting for currency. For example, consider how to print the output with two decimal places for pound sterling."
   ]
  },
  {
   "cell_type": "code",
   "execution_count": 96,
   "id": "ddf7677c",
   "metadata": {},
   "outputs": [
    {
     "name": "stdout",
     "output_type": "stream",
     "text": [
      "Please enter a deposit amount:3000.6\n",
      "The interest rate by the end of the year will be: 3158.1315\n"
     ]
    }
   ],
   "source": [
    "#2024 interest rate in UK (source from money.co.uk): 5.25% \n",
    "\n",
    "\n",
    "deposit = float(input('Please enter a deposit amount:'))\n",
    "\n",
    "print('The interest rate by the end of the year will be:', deposit*(1+0.0525)*(1*1))"
   ]
  },
  {
   "cell_type": "markdown",
   "id": "611abb55",
   "metadata": {},
   "source": [
    "### Exercise 10:\n",
    "\n",
    "Ask the user to enter the month that they were born in. Calculate how many months it will be until their next birthday.\n",
    "\n",
    "For simplicity, it would be easier if they enter this in the format of an integer (int). For example, May would be the 5th month of the year.\n",
    "\n",
    "Challenge: Instead of asking for integers, ask the user to enter their month of birth as a string (str)! "
   ]
  },
  {
   "cell_type": "code",
   "execution_count": 98,
   "id": "7eb7cb96",
   "metadata": {},
   "outputs": [
    {
     "name": "stdout",
     "output_type": "stream",
     "text": [
      "Please enter the month that you were born in: 1\n",
      "Your birthday is in: 3 months\n"
     ]
    }
   ],
   "source": [
    "from datetime import date\n",
    "birthday_month = str.lower(input('Please enter the month that you were born in: '))\n",
    "current_month = datetime.now().month\n",
    "\n",
    "if birthday_month == 'january':\n",
    "    birthday_month = 1\n",
    "elif birthday_month == 'february':\n",
    "    birthday_month = 2\n",
    "elif birthday_month == 'march':\n",
    "    birthday_month = 3\n",
    "elif birthday_month == 'april':\n",
    "    birthday_month = 4\n",
    "elif birthday_month == 'may':\n",
    "    birthday_month = 5\n",
    "elif birthday_month == 'june':\n",
    "    birthday_month = 6\n",
    "elif birthday_month == 'july':\n",
    "    birthday_month = 7\n",
    "elif birthday_month == 'august':\n",
    "    birthday_month = 8\n",
    "elif birthday_month == 'september':\n",
    "    birthday_month = 9\n",
    "elif birthday_month == 'october':\n",
    "    birthday_month = 10\n",
    "elif birthday_month == 'november':\n",
    "    birthday_month = 11\n",
    "elif birthday_month == 'december':\n",
    "    birthday_month = 12\n",
    "    \n",
    "if int(birthday_month) > current_month:\n",
    "    print(\"Your birthday is in:\", int(birthday_month) - current_month, 'months')\n",
    "else:\n",
    "    print(\"Your birthday is in:\", (12 - current_month)+int(birthday_month), 'months')"
   ]
  },
  {
   "cell_type": "markdown",
   "id": "b3515ece",
   "metadata": {},
   "source": [
    "### (Bonus) Exercise 11:\n",
    "\n",
    "Further to the previous exercise, write some code that asks the user to enter their date of birth (DOB). Now calculate how old the user is from their date of birth and output this to the screen."
   ]
  },
  {
   "cell_type": "code",
   "execution_count": 142,
   "id": "1e99eb4e",
   "metadata": {},
   "outputs": [
    {
     "name": "stdout",
     "output_type": "stream",
     "text": [
      "Please enter your date of birth (YYYY-MM-DD format): 2001-10-6\n",
      "You are 23 years old\n"
     ]
    }
   ],
   "source": [
    "current_date = datetime.today()\n",
    "DOB = datetime.strptime(input('Please enter your date of birth (YYYY-MM-DD format): '),'%Y-%m-%d')\n",
    "\n",
    "print('You are', current_date.year-DOB.year, 'years old')"
   ]
  },
  {
   "cell_type": "markdown",
   "id": "befecdab",
   "metadata": {},
   "source": [
    "### (Bonus) Exercise 12:\n",
    "Extend the previous exercise to calculate how many days it is until the user's next birthday from the DOB entered.\n",
    "\n",
    "Extension: Check whether this is a leap year, and if it is, remember to make an adjustment."
   ]
  },
  {
   "cell_type": "code",
   "execution_count": 144,
   "id": "352f7891",
   "metadata": {},
   "outputs": [
    {
     "name": "stdout",
     "output_type": "stream",
     "text": [
      "Your birthday is in 365 days\n"
     ]
    }
   ],
   "source": [
    "next_birthday = str(datetime.now().year) + '-' + str(DOB.month) + '-' + str(DOB.day)\n",
    "next_birthday = datetime.strptime(next_birthday, '%Y-%m-%d') #converting to a datatime object\n",
    "\n",
    "if next_birthday > datetime.now():\n",
    "    print('Your birthday is in' ,next_birthday - datetime.now())\n",
    "else:\n",
    "    print('Your birthday is in' , (365 - datetime.now().day) + next_birthday.day, 'days')"
   ]
  },
  {
   "cell_type": "markdown",
   "id": "3c4f2883",
   "metadata": {},
   "source": [
    "### (Bonus) Exercise 13:\n",
    "\n",
    "Write a script which will process the user's DOB and output which day of the week they were born. "
   ]
  },
  {
   "cell_type": "code",
   "execution_count": 147,
   "id": "ec494e87",
   "metadata": {},
   "outputs": [
    {
     "name": "stdout",
     "output_type": "stream",
     "text": [
      "Saturday\n"
     ]
    }
   ],
   "source": [
    "import calendar\n",
    "print(calendar.day_name[DOB.weekday()])"
   ]
  },
  {
   "cell_type": "markdown",
   "id": "32fb89f8",
   "metadata": {},
   "source": [
    "### (Bonus) Exercise 14: \n",
    "Define a function called 'get_input'. The function should prompt the user to enter an input and then return this to the calling location. Test this works by calling the function a few times, prompting the user for different types of data.\n",
    "\n",
    "Extension 1: You may wish to extend this further to create a separate function which will 'get' (return) integers. This would be a separate function from the 'get_input' function, which would by default return strings (str). \n",
    "\n",
    "Extension 2: You may wish to incorporate this function into the scripts which process the user's DOB."
   ]
  },
  {
   "cell_type": "code",
   "execution_count": 149,
   "id": "a3a12465",
   "metadata": {},
   "outputs": [
    {
     "name": "stdout",
     "output_type": "stream",
     "text": [
      "Please Enter your input: ee\n"
     ]
    },
    {
     "data": {
      "text/plain": [
       "'ee'"
      ]
     },
     "execution_count": 149,
     "metadata": {},
     "output_type": "execute_result"
    }
   ],
   "source": [
    "def get_input():\n",
    "    return input('Please Enter your input: ')\n",
    "get_input()"
   ]
  },
  {
   "cell_type": "markdown",
   "id": "c9e5e008",
   "metadata": {},
   "source": [
    "### (Bonus) Exercise 15:\n",
    "Continuing from the previous exercise, can you add conditional statements that will evaluate whether the input is 'valid'. For example, if the user was asked to type in their date of birth, check to see whether this is the format required (this could be DD/MM/YYYY). Output a message to prompt the user if the format entered is not to the program's specification."
   ]
  },
  {
   "cell_type": "code",
   "execution_count": 182,
   "id": "c391b1c0",
   "metadata": {},
   "outputs": [
    {
     "name": "stdout",
     "output_type": "stream",
     "text": [
      "Please enter your date of birth in the YYYY-MM-DD format: 2003-05-05\n",
      "This is a valid input\n"
     ]
    }
   ],
   "source": [
    "def get_DOB():\n",
    "    return input('Please enter your date of birth in the YYYY-MM-DD format: ')\n",
    "user_input = get_DOB()\n",
    "\n",
    "year = user_input[0:4]\n",
    "month = user_input[5:7]\n",
    "day = user_input[8:10]\n",
    "\n",
    "if (user_input.__contains__('-') == True and \n",
    "    type(int(year)) == int and\n",
    "    type(int(month)) == int and\n",
    "    type(int(day)) == int):\n",
    "        print('This is a valid input')\n",
    "else:\n",
    "    print('Please double check your input (make sure it has a - and has numbers)')"
   ]
  }
 ],
 "metadata": {
  "kernelspec": {
   "display_name": "Python 3 (ipykernel)",
   "language": "python",
   "name": "python3"
  },
  "language_info": {
   "codemirror_mode": {
    "name": "ipython",
    "version": 3
   },
   "file_extension": ".py",
   "mimetype": "text/x-python",
   "name": "python",
   "nbconvert_exporter": "python",
   "pygments_lexer": "ipython3",
   "version": "3.11.5"
  }
 },
 "nbformat": 4,
 "nbformat_minor": 5
}
