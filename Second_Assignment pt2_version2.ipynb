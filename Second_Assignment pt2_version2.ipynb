{
 "cells": [
  {
   "cell_type": "markdown",
   "id": "02367634",
   "metadata": {},
   "source": [
    "# Second Assignment\n",
    "\n",
    "The goal of this assignment is to use the iris dataset to train a classifier in asupervised fashion and a clusterer in unsupervised fashion.\n",
    "\n",
    "**Deadline: To Be Confirmed by the Tutor**. \n",
    "\n",
    "**Submission:** Please email your solutions and your completed Declaration of Authorship (DoA) form to weeklyclasses@conted.ox.ac.uk "
   ]
  },
  {
   "cell_type": "markdown",
   "id": "28e3e612",
   "metadata": {
    "jp-MarkdownHeadingCollapsed": true
   },
   "source": [
    "### Setup"
   ]
  },
  {
   "cell_type": "code",
   "execution_count": 1,
   "id": "ce33580a",
   "metadata": {},
   "outputs": [],
   "source": [
    "# Python ≥3.8 is required\n",
    "import sys\n",
    "assert sys.version_info >= (3, 8)\n",
    "\n",
    "# Scikit-Learn ≥ 1.0 is required\n",
    "import sklearn\n",
    "assert sklearn.__version__ >= \"1.0\"\n",
    "\n",
    "# Common imports\n",
    "import numpy as np\n",
    "import pandas as pd\n",
    "import os\n",
    "\n",
    "# To plot pretty figures\n",
    "%matplotlib inline\n",
    "import matplotlib as mpl\n",
    "import matplotlib.pyplot as plt\n",
    "mpl.rc('axes', labelsize=14)\n",
    "mpl.rc('xtick', labelsize=12)\n",
    "mpl.rc('ytick', labelsize=12)\n",
    "\n",
    "# Precision options\n",
    "np.set_printoptions(precision=2)\n",
    "pd.options.display.float_format = '{:.3f}'.format"
   ]
  },
  {
   "cell_type": "markdown",
   "id": "a3e371b3",
   "metadata": {
    "jp-MarkdownHeadingCollapsed": true
   },
   "source": [
    "### Import data and training test split\n",
    "\n",
    "Let's import the iris dataset first."
   ]
  },
  {
   "cell_type": "code",
   "execution_count": 2,
   "id": "fa409f7f",
   "metadata": {},
   "outputs": [],
   "source": [
    "from sklearn.datasets import load_iris\n",
    "iris = load_iris()"
   ]
  },
  {
   "cell_type": "markdown",
   "id": "b41aaa63-21d1-4587-8ee3-17f1cf45b9d9",
   "metadata": {},
   "source": [
    "#### Part 1: Dataset prep.\n",
    "\n",
    "I am going to load the input variables and the target variables as separate datasets. To do that I am first printing out all the keys of the `iris` dataset"
   ]
  },
  {
   "cell_type": "code",
   "execution_count": 3,
   "id": "9c5e8bd6-330e-4577-846f-25ea4be9ee66",
   "metadata": {},
   "outputs": [
    {
     "data": {
      "text/plain": [
       "dict_keys(['data', 'target', 'frame', 'target_names', 'DESCR', 'feature_names', 'filename', 'data_module'])"
      ]
     },
     "execution_count": 3,
     "metadata": {},
     "output_type": "execute_result"
    }
   ],
   "source": [
    "iris.keys()"
   ]
  },
  {
   "cell_type": "markdown",
   "id": "6e033b0a",
   "metadata": {
    "jp-MarkdownHeadingCollapsed": true
   },
   "source": [
    "### Train-test splitting (3 points)\n",
    "\n",
    "As a first step let's split the dataset into training (2/3 of the data) and test set (1/3 of the data)"
   ]
  },
  {
   "cell_type": "markdown",
   "id": "940defde-66a0-47f1-b96d-ca335f50e309",
   "metadata": {},
   "source": [
    "#### Part 2: Creating the training and testing dataset and feature scaling\n",
    "\n",
    "Now that I have prepared the data and have creating the input dataframe and target dataframe I will not create the training and testing datasets and will also featue scale the input variables"
   ]
  },
  {
   "cell_type": "code",
   "execution_count": 4,
   "id": "81eb4def",
   "metadata": {},
   "outputs": [
    {
     "name": "stdout",
     "output_type": "stream",
     "text": [
      "The shaope of the original dataset is:  (150, 4)\n",
      "The shape of the training dataset is:  (100, 4)\n",
      "The shaope of the testing dataset is:  (50, 4)\n"
     ]
    }
   ],
   "source": [
    "# Write your solution here\n",
    "from sklearn.model_selection import train_test_split #importing the `train_test_split` library\n",
    "\n",
    "#creating the training and testing datasets\n",
    "X_Train, X_Test, y_Train, y_Test = train_test_split(iris.data, iris.target, test_size=1/3, random_state=42, stratify=iris.target)\n",
    "\n",
    "#printing out the shape of the training and testing dataset\n",
    "print('The shaope of the original dataset is: ', iris.data.shape)\n",
    "print('The shape of the training dataset is: ', X_Train.shape)\n",
    "print('The shaope of the testing dataset is: ', X_Test.shape)"
   ]
  },
  {
   "cell_type": "markdown",
   "id": "f4d7244d-92f5-42a0-b97c-301116e5713a",
   "metadata": {},
   "source": [
    "As you can see, I have successfully allocated the original dataset into 2/3 of training data and 1/3 of testing data. This can be seen above where I printed out the shapes of the training and testing dataset. \n",
    "\n",
    "*  The training dataset has 100 rows which is 66% of the original dataset (100/150 = 0.66)\n",
    "*  The testing dataset has 50 rows which is 33% of the original dataset (50/150 = 0.33)"
   ]
  },
  {
   "cell_type": "markdown",
   "id": "a1011db4",
   "metadata": {},
   "source": [
    "### Feature scaling (4 points)\n",
    "\n",
    "Then let's perform feature scaling (up to you whether you want to use standardisation or normalisation)"
   ]
  },
  {
   "cell_type": "markdown",
   "id": "dc506ad2-0442-49c2-81ad-1015e0daae29",
   "metadata": {},
   "source": [
    "#### Method 1: Standardisation\n",
    "\n",
    "I am including code on how to perform both, standardisation and normalisation. I will be going with normalisation but wanted to show both methods of feature scaling."
   ]
  },
  {
   "cell_type": "code",
   "execution_count": 5,
   "id": "e363af25",
   "metadata": {},
   "outputs": [],
   "source": [
    "# Write your solution here\n",
    "#from sklearn.preprocessing import StandardScaler #importing the `StandardScaler` library for standardisation\n",
    "\n",
    "#scaler_standard = StandardScaler() #importing the scaler\n",
    "#X_Train_standardized = scaler_standard.fit_transform(X_Train)\n",
    "#X_Test_standardized = scaler_standard.fit_transform(X_Test)"
   ]
  },
  {
   "cell_type": "markdown",
   "id": "91eb7640-4fe6-455f-bb41-3a4254674167",
   "metadata": {},
   "source": [
    "#### Method 2: Normalisation (min-max scaling)\n",
    "\n",
    "The code below shows how I apply noralisation on the input data using the `MinMaxScaler` library"
   ]
  },
  {
   "cell_type": "code",
   "execution_count": 6,
   "id": "be622a67-4122-4ea0-a4fa-fb0c2ed2f545",
   "metadata": {},
   "outputs": [],
   "source": [
    "from sklearn.preprocessing import MinMaxScaler #importing the `MinMaxScaler` library for normalisation\n",
    "scaler_minmax = MinMaxScaler()#importing the scaler\n",
    "\n",
    "X_Train_normalized = scaler_minmax.fit_transform(X_Train)\n",
    "X_Test_normalized = scaler_minmax.fit_transform(X_Test)"
   ]
  },
  {
   "cell_type": "markdown",
   "id": "c6f2e1ab-f1c4-4705-bc83-053c972bfbd1",
   "metadata": {},
   "source": [
    "I am using the method that Professor Izzo shared in lecture [3.1: Pre-processing data pipeline: imputation, feature engineering, and scaling -min. 15:18](https://ox.cloud.panopto.eu/Panopto/Pages/Viewer.aspx?id=9c07c095-8b52-45fd-bfad-ae97007fa057&start=687.632706) to check whether the ranges of the standardised features are in the same range."
   ]
  },
  {
   "cell_type": "code",
   "execution_count": 7,
   "id": "2d530b0a-c4c1-4864-bd11-6c6804b885ea",
   "metadata": {},
   "outputs": [
    {
     "data": {
      "text/plain": [
       "(array([0.56, 0.05, 0.29, 0.25, 0.05, 0.  , 0.07, 0.46, 0.04, 0.04, 0.33,\n",
       "        0.  , 0.21, 0.08, 0.33, 0.42, 0.04, 0.04, 0.42, 0.12, 0.33, 0.04,\n",
       "        0.04, 0.75, 0.  , 0.38, 0.33, 0.21, 0.  , 0.25, 0.  , 0.54, 0.17,\n",
       "        0.42, 0.38, 0.04, 0.21, 0.07, 0.5 , 0.04, 0.36, 0.25, 0.03, 0.46,\n",
       "        0.17, 0.42, 0.03, 0.29, 0.44, 0.75, 0.03, 0.25, 0.03, 0.54, 0.38,\n",
       "        0.33, 0.29, 0.33, 0.12, 0.46, 0.33, 0.33, 0.33, 0.29, 0.09, 0.5 ,\n",
       "        0.29, 0.46, 0.42, 0.04, 0.25, 0.42, 0.42, 0.04, 0.08, 0.04, 0.09,\n",
       "        0.67, 0.38, 0.21, 0.04, 0.5 , 0.5 , 0.5 , 0.07, 0.21, 0.42, 0.08,\n",
       "        0.39, 0.42, 0.04, 0.54, 0.29, 0.5 , 0.1 , 0.04, 0.46, 0.05, 0.  ,\n",
       "        0.04]),\n",
       " array([0.96, 0.62, 0.75, 0.54, 0.58, 0.87, 1.  , 0.76, 0.46, 0.46, 0.61,\n",
       "        0.46, 0.42, 0.5 , 0.83, 0.71, 0.92, 0.67, 0.83, 0.75, 0.96, 0.71,\n",
       "        0.58, 1.  , 0.67, 0.64, 0.71, 0.5 , 0.42, 0.57, 0.42, 1.  , 0.47,\n",
       "        0.94, 0.55, 0.42, 0.79, 0.75, 0.92, 0.5 , 0.5 , 0.41, 0.79, 0.83,\n",
       "        0.45, 0.64, 0.62, 0.75, 0.71, 0.97, 0.62, 0.5 , 0.38, 1.  , 0.58,\n",
       "        0.5 , 0.69, 0.62, 0.57, 0.67, 0.79, 0.69, 0.86, 0.71, 0.58, 0.79,\n",
       "        0.48, 0.72, 0.83, 0.46, 1.  , 0.81, 0.95, 0.75, 0.67, 0.58, 0.62,\n",
       "        1.  , 0.78, 0.75, 0.62, 0.75, 0.92, 0.84, 0.58, 0.66, 0.6 , 0.59,\n",
       "        0.53, 0.58, 0.62, 0.83, 0.53, 0.92, 0.79, 0.54, 0.67, 0.42, 0.41,\n",
       "        0.5 ]))"
      ]
     },
     "execution_count": 7,
     "metadata": {},
     "output_type": "execute_result"
    }
   ],
   "source": [
    "X_Train_normalized.min(axis=1), X_Train_normalized.max(axis=1)"
   ]
  },
  {
   "cell_type": "markdown",
   "id": "21bc85f2",
   "metadata": {},
   "source": [
    "## Part 1: Supervised training using K-Nearest Neighbourse\n",
    "\n",
    "\n",
    "### Model creation (6 points) and training (2 points)\n",
    "\n",
    "Now, evaluate the performance of your classifier using the confusion matrix. Compute and visualize the confusion matrix for our three classes\n",
    "\n",
    "Now, let's create and train a `KNeighborsClassifier`.\n",
    "\n",
    "We want the following properties for our classifier:\n",
    "* check 7 neighbours by default for the `kneighbors` queries.\n",
    "* use the Manhattan distance metric to identify neighbours\n",
    "* use the Ball Tree algortihm to compute the nearest neighbours, with a `leaf_size` of 3. Check the Ball Tree algorithm documentation on scikit-learn for more details.\n",
    "\n",
    "Check the `KNeighborsClassifier` documentation to identify the arguments to pass to the `KNeighborsClassifier` constructor."
   ]
  },
  {
   "cell_type": "code",
   "execution_count": 8,
   "id": "b4a5f061",
   "metadata": {},
   "outputs": [
    {
     "data": {
      "text/html": [
       "<style>#sk-container-id-1 {color: black;}#sk-container-id-1 pre{padding: 0;}#sk-container-id-1 div.sk-toggleable {background-color: white;}#sk-container-id-1 label.sk-toggleable__label {cursor: pointer;display: block;width: 100%;margin-bottom: 0;padding: 0.3em;box-sizing: border-box;text-align: center;}#sk-container-id-1 label.sk-toggleable__label-arrow:before {content: \"▸\";float: left;margin-right: 0.25em;color: #696969;}#sk-container-id-1 label.sk-toggleable__label-arrow:hover:before {color: black;}#sk-container-id-1 div.sk-estimator:hover label.sk-toggleable__label-arrow:before {color: black;}#sk-container-id-1 div.sk-toggleable__content {max-height: 0;max-width: 0;overflow: hidden;text-align: left;background-color: #f0f8ff;}#sk-container-id-1 div.sk-toggleable__content pre {margin: 0.2em;color: black;border-radius: 0.25em;background-color: #f0f8ff;}#sk-container-id-1 input.sk-toggleable__control:checked~div.sk-toggleable__content {max-height: 200px;max-width: 100%;overflow: auto;}#sk-container-id-1 input.sk-toggleable__control:checked~label.sk-toggleable__label-arrow:before {content: \"▾\";}#sk-container-id-1 div.sk-estimator input.sk-toggleable__control:checked~label.sk-toggleable__label {background-color: #d4ebff;}#sk-container-id-1 div.sk-label input.sk-toggleable__control:checked~label.sk-toggleable__label {background-color: #d4ebff;}#sk-container-id-1 input.sk-hidden--visually {border: 0;clip: rect(1px 1px 1px 1px);clip: rect(1px, 1px, 1px, 1px);height: 1px;margin: -1px;overflow: hidden;padding: 0;position: absolute;width: 1px;}#sk-container-id-1 div.sk-estimator {font-family: monospace;background-color: #f0f8ff;border: 1px dotted black;border-radius: 0.25em;box-sizing: border-box;margin-bottom: 0.5em;}#sk-container-id-1 div.sk-estimator:hover {background-color: #d4ebff;}#sk-container-id-1 div.sk-parallel-item::after {content: \"\";width: 100%;border-bottom: 1px solid gray;flex-grow: 1;}#sk-container-id-1 div.sk-label:hover label.sk-toggleable__label {background-color: #d4ebff;}#sk-container-id-1 div.sk-serial::before {content: \"\";position: absolute;border-left: 1px solid gray;box-sizing: border-box;top: 0;bottom: 0;left: 50%;z-index: 0;}#sk-container-id-1 div.sk-serial {display: flex;flex-direction: column;align-items: center;background-color: white;padding-right: 0.2em;padding-left: 0.2em;position: relative;}#sk-container-id-1 div.sk-item {position: relative;z-index: 1;}#sk-container-id-1 div.sk-parallel {display: flex;align-items: stretch;justify-content: center;background-color: white;position: relative;}#sk-container-id-1 div.sk-item::before, #sk-container-id-1 div.sk-parallel-item::before {content: \"\";position: absolute;border-left: 1px solid gray;box-sizing: border-box;top: 0;bottom: 0;left: 50%;z-index: -1;}#sk-container-id-1 div.sk-parallel-item {display: flex;flex-direction: column;z-index: 1;position: relative;background-color: white;}#sk-container-id-1 div.sk-parallel-item:first-child::after {align-self: flex-end;width: 50%;}#sk-container-id-1 div.sk-parallel-item:last-child::after {align-self: flex-start;width: 50%;}#sk-container-id-1 div.sk-parallel-item:only-child::after {width: 0;}#sk-container-id-1 div.sk-dashed-wrapped {border: 1px dashed gray;margin: 0 0.4em 0.5em 0.4em;box-sizing: border-box;padding-bottom: 0.4em;background-color: white;}#sk-container-id-1 div.sk-label label {font-family: monospace;font-weight: bold;display: inline-block;line-height: 1.2em;}#sk-container-id-1 div.sk-label-container {text-align: center;}#sk-container-id-1 div.sk-container {/* jupyter's `normalize.less` sets `[hidden] { display: none; }` but bootstrap.min.css set `[hidden] { display: none !important; }` so we also need the `!important` here to be able to override the default hidden behavior on the sphinx rendered scikit-learn.org. See: https://github.com/scikit-learn/scikit-learn/issues/21755 */display: inline-block !important;position: relative;}#sk-container-id-1 div.sk-text-repr-fallback {display: none;}</style><div id=\"sk-container-id-1\" class=\"sk-top-container\"><div class=\"sk-text-repr-fallback\"><pre>KNeighborsClassifier(algorithm=&#x27;ball_tree&#x27;, leaf_size=3, metric=&#x27;manhattan&#x27;,\n",
       "                     n_neighbors=7)</pre><b>In a Jupyter environment, please rerun this cell to show the HTML representation or trust the notebook. <br />On GitHub, the HTML representation is unable to render, please try loading this page with nbviewer.org.</b></div><div class=\"sk-container\" hidden><div class=\"sk-item\"><div class=\"sk-estimator sk-toggleable\"><input class=\"sk-toggleable__control sk-hidden--visually\" id=\"sk-estimator-id-1\" type=\"checkbox\" checked><label for=\"sk-estimator-id-1\" class=\"sk-toggleable__label sk-toggleable__label-arrow\">KNeighborsClassifier</label><div class=\"sk-toggleable__content\"><pre>KNeighborsClassifier(algorithm=&#x27;ball_tree&#x27;, leaf_size=3, metric=&#x27;manhattan&#x27;,\n",
       "                     n_neighbors=7)</pre></div></div></div></div></div>"
      ],
      "text/plain": [
       "KNeighborsClassifier(algorithm='ball_tree', leaf_size=3, metric='manhattan',\n",
       "                     n_neighbors=7)"
      ]
     },
     "execution_count": 8,
     "metadata": {},
     "output_type": "execute_result"
    }
   ],
   "source": [
    "# Write your code here\n",
    "from sklearn.neighbors import KNeighborsClassifier #imporing the k-nearest neighbor library\n",
    "k_classifier = KNeighborsClassifier(n_neighbors=7, #number of k-neighbors\n",
    "                                    metric='manhattan', #the distance metric\n",
    "                                    algorithm='ball_tree', #specifying the algorithm to compute the nearest neighbors\n",
    "                                    leaf_size=3 #specifying the leaf size\n",
    "                                   ) \n",
    "k_classifier.fit(X_Train_normalized, y_Train) # Training the KNeighborsClassifier"
   ]
  },
  {
   "cell_type": "markdown",
   "id": "d9226586",
   "metadata": {},
   "source": [
    "### Evaluation on the training set (5 points)\n",
    "\n",
    "Now, evaluate the performance of your classifier using the confusion matrix. Compute and visualize the confusion matrix for our three classes"
   ]
  },
  {
   "cell_type": "code",
   "execution_count": 9,
   "id": "0f3b1bb0",
   "metadata": {},
   "outputs": [
    {
     "name": "stdout",
     "output_type": "stream",
     "text": [
      "Confusion matrix of training set:\n",
      " [[34  0  0]\n",
      " [ 0 31  2]\n",
      " [ 0  1 32]]\n"
     ]
    }
   ],
   "source": [
    "# Write your code here\n",
    "from sklearn.metrics import confusion_matrix\n",
    "confusion_matrix_train = confusion_matrix(y_Train,\n",
    "                                          k_classifier.predict(X_Train_normalized)\n",
    "                                         )\n",
    "print(\"Confusion matrix of training set:\\n\", confusion_matrix_train)"
   ]
  },
  {
   "cell_type": "markdown",
   "id": "8c83fe55",
   "metadata": {},
   "source": [
    "Compute precision, recall, and F1 score for each class prediction on the training set and print out a report."
   ]
  },
  {
   "cell_type": "code",
   "execution_count": 10,
   "id": "61ab2b0d",
   "metadata": {},
   "outputs": [
    {
     "name": "stdout",
     "output_type": "stream",
     "text": [
      "\n",
      "Classification report of training set:\n",
      "               precision    recall  f1-score   support\n",
      "\n",
      "           0       1.00      1.00      1.00        34\n",
      "           1       0.97      0.94      0.95        33\n",
      "           2       0.94      0.97      0.96        33\n",
      "\n",
      "    accuracy                           0.97       100\n",
      "   macro avg       0.97      0.97      0.97       100\n",
      "weighted avg       0.97      0.97      0.97       100\n",
      "\n"
     ]
    }
   ],
   "source": [
    "from sklearn.metrics import classification_report\n",
    "# Write your code here\n",
    "print(\"\\nClassification report of training set:\\n\", classification_report(y_Train, \n",
    "                                                                         k_classifier.predict(X_Train_normalized)\n",
    "                                                                        )\n",
    "     )"
   ]
  },
  {
   "cell_type": "code",
   "execution_count": 11,
   "id": "e7249b32-ecff-446e-938e-75e3520140e4",
   "metadata": {},
   "outputs": [
    {
     "data": {
      "text/plain": [
       "array(['setosa', 'versicolor', 'virginica'], dtype='<U10')"
      ]
     },
     "execution_count": 11,
     "metadata": {},
     "output_type": "execute_result"
    }
   ],
   "source": [
    "iris.target_names #printing out the flower species names"
   ]
  },
  {
   "cell_type": "markdown",
   "id": "ccb2c1d2-7901-4789-9949-77be4b11024a",
   "metadata": {},
   "source": [
    "#### Confusion Matrix and F1 Score analysis for training data\n",
    "\n",
    "Analysis on iris-setosa\n",
    "*  When looking at the confusion matrix you can see that iris-setosa was correctly classified and did not have any miss-classifications. This is why the F1 score for iris-setosa is 1.00\n",
    "\n",
    "Analysis on iris-versicolor\n",
    "*  When looking at the second row in the confusion matrix I can see that two of the labels for iris-versicolor were miss-classified as iris-virginica. When looking at the confusion matrix I can see that iris-versicolor is the flower species that has the most miss-classifications. This is why the F1 score and recall score for iris-versicolor is the lowest (with a f1 score of 0.95 and recall score of 0.94) as compared to the other flower species (setosa and virginica)\n",
    "\n",
    "Analysis on iris-virginica\n",
    "*   When looking at the third row in the confusion matrix I can see that iris-virginica was miss-classified one time (this value is less than iris-versicolor which was miss-classified two times). As a result, the F1 score for iris-virginica (0.96) is higher than the F1 score for iris-versicolor (0.95) since iris-virginica had a lower amount of miss-classifications"
   ]
  },
  {
   "cell_type": "markdown",
   "id": "2b85a004",
   "metadata": {},
   "source": [
    "How does the result look like? Has anything been misclassified?\n",
    "\n",
    "\n",
    "### Evaluation on the test set (5 points)\n",
    "\n",
    "Now make predictions on the test set, compute the confusion matrix for the test set. how does it compare to the one of the training set?"
   ]
  },
  {
   "cell_type": "code",
   "execution_count": 12,
   "id": "c5a1e90c",
   "metadata": {},
   "outputs": [
    {
     "name": "stdout",
     "output_type": "stream",
     "text": [
      "Confusion matrix of test set:\n",
      " [[16  0  0]\n",
      " [ 0 16  1]\n",
      " [ 0  3 14]]\n"
     ]
    }
   ],
   "source": [
    "# Write your code here\n",
    "confusion_matrix_test = confusion_matrix(y_Test,\n",
    "                                          k_classifier.predict(X_Test_normalized)\n",
    "                                         )\n",
    "print(\"Confusion matrix of test set:\\n\", confusion_matrix_test)"
   ]
  },
  {
   "cell_type": "markdown",
   "id": "921f28ca",
   "metadata": {},
   "source": [
    "Compute precision, recall, and F1 score for each class prediction on the test set and print out a report."
   ]
  },
  {
   "cell_type": "code",
   "execution_count": 13,
   "id": "77f74920",
   "metadata": {},
   "outputs": [
    {
     "name": "stdout",
     "output_type": "stream",
     "text": [
      "\n",
      "Classification report of test set:\n",
      "               precision    recall  f1-score   support\n",
      "\n",
      "           0       1.00      1.00      1.00        16\n",
      "           1       0.84      0.94      0.89        17\n",
      "           2       0.93      0.82      0.87        17\n",
      "\n",
      "    accuracy                           0.92        50\n",
      "   macro avg       0.93      0.92      0.92        50\n",
      "weighted avg       0.92      0.92      0.92        50\n",
      "\n"
     ]
    }
   ],
   "source": [
    "# Write your code here\n",
    "print(\"\\nClassification report of test set:\\n\", classification_report(y_Test, \n",
    "                                                                         k_classifier.predict(X_Test_normalized)\n",
    "                                                                        )\n",
    "     )"
   ]
  },
  {
   "cell_type": "markdown",
   "id": "179db277-e649-4345-a48c-d0de753fddd4",
   "metadata": {},
   "source": [
    "#### Confusion Matrix and F1 Score analysis for test data\n",
    "\n",
    "Analysis on iris-setosa\n",
    "*   When looking at the confusion matrix you can see that iris-setosa was correctly classified for the test data and was also correctly classified 100% in the training data confusin matrix as well. The F1 score for iris-setosa on both, the training and test dataset is 1.00 which means that no miss-classifications happened for this label\n",
    "\n",
    "Analysis on iris-versicolor\n",
    "*   When looking at the second row of the confusion matrix I notice that there is only one miss-classification of iris-versicolor as iris-virginica. The number of miss-classifications for iris-versicolor is less than the number of miss-classifications for iris-vvirginica which is the opposite of what happened in the training dataset confusion matrix (-iris-versicolor had more miss-classifications than iris-virginica)\n",
    "*   As a result, the F1 score for iris-versicolor is 0.89 which is slightly bigger than the F1 score of iris-virginica. I did notice a drastic decrease in the F1 score of the test data and training dataset because the previous F1 score for iris-versicolor was 0.95 and now the F1 score dropped to 0.89.\n",
    "\n",
    "Analysis on iris-virginica\n",
    "*   When looking at the third row of the confusion matrix I notice that there are three miss-classifications of iris-virginica which is the highest number of miss-classifications on the confusion matrix for the test dataset. Even on the training data confusion matrix the highest amount of miss-classifications was two so I was suprised to see this amount of miss-classifications.\n",
    "*   As a result, the F1 score for iris-virginica is the lowest (0.87) when compared to the other flower species. The F1 score has experienced a 0.09 drop in F1 scores when compared to the training dataset F1 scores (the training dataset F1 score was 0.96). I was suprised to see this drop since I assumed that the categorisation of iris-virginica would have been better based off of the training data results. This means that the K-nearest neighbor classifier will correctly classify the iris-setosa species but will make some errors when classifying iris-versicolor and iris-virginica"
   ]
  },
  {
   "cell_type": "markdown",
   "id": "f0d4e79c",
   "metadata": {},
   "source": [
    "## Part 2: Unsupervised Learning using K-Means (10 points)\n",
    "\n",
    "Train K-means clusterers on the entire iris dataset.\n",
    "\n",
    "Train clusters with 2 to 6 clusters and use one of the metrics discussed in week 7 to show which is the optimal number of clusters"
   ]
  },
  {
   "cell_type": "code",
   "execution_count": 16,
   "id": "528d5470",
   "metadata": {},
   "outputs": [],
   "source": [
    "# Write your code here. Add as many cells as you need.\n",
    "from sklearn.cluster import KMeans\n",
    "from sklearn.metrics import silhouette_score\n",
    "\n",
    "inertia_scores = []  # To store silhouette scores of the models\n",
    "count = 2\n",
    "cluster_count_list = []\n",
    "while count < 7:\n",
    "    kmeans = KMeans(n_clusters=count, n_init=10, random_state=42)\n",
    "    kmeans.fit(iris.data)\n",
    "    inertia_scores.append(silhouette_score(iris.data, kmeans.labels_))\n",
    "    cluster_count_list.append(count)\n",
    "    count += 1"
   ]
  },
  {
   "cell_type": "code",
   "execution_count": 15,
   "id": "a634e565-49e8-4a49-ad19-8a34e19e5f2c",
   "metadata": {},
   "outputs": [
    {
     "data": {
      "image/png": "[encoded data removed]",
      "text/plain": [
       "<Figure size 1000x600 with 1 Axes>"
      ]
     },
     "metadata": {},
     "output_type": "display_data"
    }
   ],
   "source": [
    "# Ploting the inertia/silhouette scores\n",
    "plt.figure(figsize=(10, 6))\n",
    "plt.plot(cluster_count_list,inertia_scores, marker = \"o\", color='black')\n",
    "plt.title(\"Elbow Curve Analysis for 2-6 Kmean clusters\")\n",
    "plt.xlabel(\"number of k clusters\", fontsize=14)\n",
    "plt.ylabel(\"Inertia score\", fontsize=14)\n",
    "plt.show()"
   ]
  },
  {
   "cell_type": "markdown",
   "id": "01909155-e51c-4864-a8f2-1c4e29100557",
   "metadata": {},
   "source": [
    "#### K-Cluster Means analysis using elbow curve\n",
    "\n",
    "Looking at the elbow curve I can see that cluster 3 has the biggest inertia score difference of 0.15 so I would say that the third cluster is the most ideal one to use (this makes sense since there are three groups of flower species). Cluster six also appears to have the same inertia difference of 0.15 as well, but I would pick cluster number three as the ideal cluster because if I were to graph the first five clusters then cluster three would be the only point in the elbow graph to have the biggest inetia difference."
   ]
  },
  {
   "cell_type": "markdown",
   "id": "496c356e",
   "metadata": {},
   "source": [
    "That's it. Congratulations, you have completed the second assignment!"
   ]
  }
 ],
 "metadata": {
  "kernelspec": {
   "display_name": "Python 3 (ipykernel)",
   "language": "python",
   "name": "python3"
  },
  "language_info": {
   "codemirror_mode": {
    "name": "ipython",
    "version": 3
   },
   "file_extension": ".py",
   "mimetype": "text/x-python",
   "name": "python",
   "nbconvert_exporter": "python",
   "pygments_lexer": "ipython3",
   "version": "3.11.5"
  },
  "vscode": {
   "interpreter": {
    "hash": "867df1ee534d26f2c7c906fca85dfba438b7170d4a41fa95ef57b9d1241c9022"
   }
  }
 },
 "nbformat": 4,
 "nbformat_minor": 5
}
