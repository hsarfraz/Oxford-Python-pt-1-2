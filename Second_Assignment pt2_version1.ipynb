{
 "cells": [
  {
   "cell_type": "markdown",
   "id": "02367634",
   "metadata": {},
   "source": [
    "# Second Assignment\n",
    "\n",
    "The goal of this assignment is to use the iris dataset to train a classifier in asupervised fashion and a clusterer in unsupervised fashion.\n",
    "\n",
    "**Deadline: To Be Confirmed by the Tutor**. \n",
    "\n",
    "**Submission:** Please email your solutions and your completed Declaration of Authorship (DoA) form to weeklyclasses@conted.ox.ac.uk "
   ]
  },
  {
   "cell_type": "markdown",
   "id": "28e3e612",
   "metadata": {},
   "source": [
    "## Setup"
   ]
  },
  {
   "cell_type": "code",
   "execution_count": 1,
   "id": "ce33580a",
   "metadata": {},
   "outputs": [],
   "source": [
    "# Python ≥3.8 is required\n",
    "import sys\n",
    "assert sys.version_info >= (3, 8)\n",
    "\n",
    "# Scikit-Learn ≥ 1.0 is required\n",
    "import sklearn\n",
    "assert sklearn.__version__ >= \"1.0\"\n",
    "\n",
    "# Common imports\n",
    "import numpy as np\n",
    "import pandas as pd\n",
    "import os\n",
    "\n",
    "# To plot pretty figures\n",
    "%matplotlib inline\n",
    "import matplotlib as mpl\n",
    "import matplotlib.pyplot as plt\n",
    "mpl.rc('axes', labelsize=14)\n",
    "mpl.rc('xtick', labelsize=12)\n",
    "mpl.rc('ytick', labelsize=12)\n",
    "\n",
    "# Precision options\n",
    "np.set_printoptions(precision=2)\n",
    "pd.options.display.float_format = '{:.3f}'.format"
   ]
  },
  {
   "cell_type": "markdown",
   "id": "a3e371b3",
   "metadata": {},
   "source": [
    "## Import data and training test split\n",
    "\n",
    "Let's import the iris dataset first."
   ]
  },
  {
   "cell_type": "code",
   "execution_count": 2,
   "id": "fa409f7f",
   "metadata": {},
   "outputs": [
    {
     "name": "stdout",
     "output_type": "stream",
     "text": [
      "Iris Dataset Key Names\n",
      "dict_keys(['data', 'target', 'frame', 'target_names', 'DESCR', 'feature_names', 'filename', 'data_module'])\n",
      "\n",
      "Flower species names for the target dataset\n",
      "['setosa' 'versicolor' 'virginica']\n"
     ]
    }
   ],
   "source": [
    "from sklearn.datasets import load_iris\n",
    "iris = load_iris()\n",
    "X, y = iris.data, iris.target\n",
    "\n",
    "print('Iris Dataset Key Names')\n",
    "print(iris.keys())\n",
    "print()\n",
    "print('Flower species names for the target dataset')\n",
    "print(iris.target_names)"
   ]
  },
  {
   "cell_type": "markdown",
   "id": "6e033b0a",
   "metadata": {},
   "source": [
    "### Train-test splitting (3 points)\n",
    "\n",
    "As a first step let's split the dataset into training (2/3 of the data) and test set (1/3 of the data)"
   ]
  },
  {
   "cell_type": "code",
   "execution_count": 3,
   "id": "81eb4def",
   "metadata": {},
   "outputs": [
    {
     "name": "stdout",
     "output_type": "stream",
     "text": [
      "(100, 4) (50, 4)\n",
      "The amount of data that is allocated to the training set is:  0.6666666666666666\n",
      "The amount of data that is allocated to the test set is:  0.3333333333333333\n"
     ]
    }
   ],
   "source": [
    "from sklearn.model_selection import train_test_split\n",
    "# Write your solution here\n",
    "X_train, X_test, y_train, y_test = train_test_split(X, y, test_size=1/3, random_state=42, stratify=y)\n",
    "\n",
    "#printing the shapes of the training and test dataset so I can see whether I correctly allocated 2/3 of the data to the training dataset and 1/3 to the test\n",
    "print(X_train.shape, X_test.shape)\n",
    "print('The amount of data that is allocated to the training set is: ', 100/150)\n",
    "print('The amount of data that is allocated to the test set is: ', 50/150)"
   ]
  },
  {
   "cell_type": "markdown",
   "id": "a1011db4",
   "metadata": {},
   "source": [
    "### Feature scaling (4 points)\n",
    "\n",
    "Then let's perform feature scaling (up to you whether you want to use standardisation or normalisation)\n",
    "\n",
    "#### Method 1\n",
    "\n",
    "I am using standardisation and will be exploring two methods. One is by directly using the standard scaler on the training and testing dataset and the other is by using the code that Professor Izzo used in lecture 3.1 (note: I used the second method to double-check if method 1 was correct and it tured out to be correct)"
   ]
  },
  {
   "cell_type": "code",
   "execution_count": 4,
   "id": "e363af25",
   "metadata": {},
   "outputs": [],
   "source": [
    "from sklearn.preprocessing import StandardScaler\n",
    "# Write your solution here\n",
    "scaler = StandardScaler() #I am creating the scalar\n",
    "\n",
    "# I am standardisation the dataset features\n",
    "X_train_scaled = scaler.fit_transform(X_train)\n",
    "X_test_scaled = scaler.transform(X_test)"
   ]
  },
  {
   "cell_type": "code",
   "execution_count": 5,
   "id": "1a7c0f6f-473c-44fa-80dd-b5df56853b88",
   "metadata": {
    "scrolled": true
   },
   "outputs": [
    {
     "data": {
      "text/plain": [
       "(array([ 0.49, -1.33, -0.82, -0.82, -1.5 , -1.42, -1.28,  0.06, -1.29,\n",
       "        -1.29, -0.6 , -1.42, -1.26, -1.92, -0.6 , -0.16, -1.33, -1.33,\n",
       "        -0.16, -1.05, -0.6 , -1.29, -1.29,  1.04, -1.42, -0.38, -0.6 ,\n",
       "        -1.26, -1.86, -1.04, -1.42,  0.5 , -1.48, -0.16, -0.38, -1.29,\n",
       "        -1.26, -1.28,  0.28, -1.39, -0.38, -1.04, -1.39,  0.06, -1.48,\n",
       "        -0.16, -1.39, -0.82,  0.02,  1.3 , -1.39, -1.04, -1.74,  0.49,\n",
       "        -0.38, -0.6 , -0.82, -0.6 , -1.7 ,  0.06, -0.6 , -0.6 , -0.6 ,\n",
       "        -0.82, -1.22,  0.28, -0.82,  0.06, -0.16, -1.5 , -1.04, -0.16,\n",
       "        -0.16, -1.29, -1.92, -1.29, -1.22,  1.15, -0.38, -1.26, -1.29,\n",
       "         0.26,  0.28,  0.28, -1.28, -1.26, -0.16, -1.92, -0.21, -0.16,\n",
       "        -1.33,  0.5 , -0.82,  0.28, -1.16, -1.33,  0.06, -1.33, -2.36,\n",
       "        -1.5 ]),\n",
       " array([ 1.56,  0.93,  0.91,  0.26,  0.71,  2.25,  2.91,  0.98,  0.06,\n",
       "         0.06,  0.72,  0.06, -0.13,  0.14,  1.17,  0.78,  2.47,  1.15,\n",
       "         1.43,  1.59,  1.56,  1.37,  0.71,  2.37,  1.15,  0.84,  0.78,\n",
       "         0.13, -0.16,  0.36, -0.16,  1.68,  0.02,  2.13,  0.37, -0.16,\n",
       "         1.04,  1.59,  1.43,  0.28,  0.13, -0.15,  1.81,  1.19, -0.04,\n",
       "         0.84,  0.93,  0.91,  0.78,  2.13,  0.93,  0.13, -0.38,  1.68,\n",
       "         0.61,  0.25,  0.75,  0.53,  0.49,  0.96,  1.04,  1.08,  1.78,\n",
       "         0.78,  0.71,  1.04,  0.08,  1.19,  1.17,  0.06,  2.13,  1.54,\n",
       "         2.01,  1.59,  0.7 ,  0.71,  0.93,  1.68,  1.03,  0.91,  0.93,\n",
       "         1.31,  1.43,  1.54,  0.71,  0.64,  0.47,  0.41,  0.25,  0.39,\n",
       "         0.93,  1.17,  0.25,  1.43,  1.81,  0.5 ,  0.96, -0.16, -0.15,\n",
       "         0.28]))"
      ]
     },
     "execution_count": 5,
     "metadata": {},
     "output_type": "execute_result"
    }
   ],
   "source": [
    "# I am printing these two arrays to double-check and see if they have the same scale\n",
    "X_train_scaled.min(axis=1), X_train_scaled.max(axis=1)"
   ]
  },
  {
   "cell_type": "markdown",
   "id": "ffaa169e-286a-451a-b238-71d8247e6f6c",
   "metadata": {},
   "source": [
    "#### Method 2\n",
    "\n",
    "I am using the code that Professor Izzo used in lecture 3.1 for standardisation and printed the minimum values for the training dataset. The array values matched the results in the first method which means that I can continue with method 1."
   ]
  },
  {
   "cell_type": "code",
   "execution_count": 6,
   "id": "355285d5-fbcf-4493-b49c-fba04416a20f",
   "metadata": {},
   "outputs": [
    {
     "name": "stdout",
     "output_type": "stream",
     "text": [
      "[ 0.49 -1.33 -0.82 -0.82 -1.5  -1.42 -1.28  0.06 -1.29 -1.29 -0.6  -1.42\n",
      " -1.26 -1.92 -0.6  -0.16 -1.33 -1.33 -0.16 -1.05 -0.6  -1.29 -1.29  1.04\n",
      " -1.42 -0.38 -0.6  -1.26 -1.86 -1.04 -1.42  0.5  -1.48 -0.16 -0.38 -1.29\n",
      " -1.26 -1.28  0.28 -1.39 -0.38 -1.04 -1.39  0.06 -1.48 -0.16 -1.39 -0.82\n",
      "  0.02  1.3  -1.39 -1.04 -1.74  0.49 -0.38 -0.6  -0.82 -0.6  -1.7   0.06\n",
      " -0.6  -0.6  -0.6  -0.82 -1.22  0.28 -0.82  0.06 -0.16 -1.5  -1.04 -0.16\n",
      " -0.16 -1.29 -1.92 -1.29 -1.22  1.15 -0.38 -1.26 -1.29  0.26  0.28  0.28\n",
      " -1.28 -1.26 -0.16 -1.92 -0.21 -0.16 -1.33  0.5  -0.82  0.28 -1.16 -1.33\n",
      "  0.06 -1.33 -2.36 -1.5 ]\n"
     ]
    }
   ],
   "source": [
    "from sklearn.pipeline import Pipeline\n",
    "from sklearn.impute import SimpleImputer\n",
    "\n",
    "num_pipline = Pipeline ([\n",
    "    ('imputer', SimpleImputer(strategy='median')),\n",
    "    ('std_scaler', StandardScaler())\n",
    "])\n",
    "\n",
    "method_2 = num_pipline.fit_transform(X_train)\n",
    "print(method_2.min(axis=1))"
   ]
  },
  {
   "cell_type": "markdown",
   "id": "21bc85f2",
   "metadata": {},
   "source": [
    "## Part 1: Supervised training using K-Nearest Neighbourse\n",
    "\n",
    "\n",
    "### Model creation (6 points) and training (2 points)\n",
    "\n",
    "Now, evaluate the performance of your classifier using the confusion matrix. Compute and visualize the confusion matrix for our three classes\n",
    "\n",
    "Now, let's create and train a `KNeighborsClassifier`.\n",
    "\n",
    "We want the following properties for our classifier:\n",
    "* check 7 neighbours by default for the `kneighbors` queries.\n",
    "* use the Manhattan distance metric to identify neighbours\n",
    "* use the Ball Tree algortihm to compute the nearest neighbours, with a `leaf_size` of 3. Check the Ball Tree algorithm documentation on scikit-learn for more details.\n",
    "\n",
    "Check the `KNeighborsClassifier` documentation to identify the arguments to pass to the `KNeighborsClassifier` constructor."
   ]
  },
  {
   "cell_type": "code",
   "execution_count": 7,
   "id": "b4a5f061",
   "metadata": {},
   "outputs": [
    {
     "data": {
      "text/html": [
       "<style>#sk-container-id-1 {color: black;}#sk-container-id-1 pre{padding: 0;}#sk-container-id-1 div.sk-toggleable {background-color: white;}#sk-container-id-1 label.sk-toggleable__label {cursor: pointer;display: block;width: 100%;margin-bottom: 0;padding: 0.3em;box-sizing: border-box;text-align: center;}#sk-container-id-1 label.sk-toggleable__label-arrow:before {content: \"▸\";float: left;margin-right: 0.25em;color: #696969;}#sk-container-id-1 label.sk-toggleable__label-arrow:hover:before {color: black;}#sk-container-id-1 div.sk-estimator:hover label.sk-toggleable__label-arrow:before {color: black;}#sk-container-id-1 div.sk-toggleable__content {max-height: 0;max-width: 0;overflow: hidden;text-align: left;background-color: #f0f8ff;}#sk-container-id-1 div.sk-toggleable__content pre {margin: 0.2em;color: black;border-radius: 0.25em;background-color: #f0f8ff;}#sk-container-id-1 input.sk-toggleable__control:checked~div.sk-toggleable__content {max-height: 200px;max-width: 100%;overflow: auto;}#sk-container-id-1 input.sk-toggleable__control:checked~label.sk-toggleable__label-arrow:before {content: \"▾\";}#sk-container-id-1 div.sk-estimator input.sk-toggleable__control:checked~label.sk-toggleable__label {background-color: #d4ebff;}#sk-container-id-1 div.sk-label input.sk-toggleable__control:checked~label.sk-toggleable__label {background-color: #d4ebff;}#sk-container-id-1 input.sk-hidden--visually {border: 0;clip: rect(1px 1px 1px 1px);clip: rect(1px, 1px, 1px, 1px);height: 1px;margin: -1px;overflow: hidden;padding: 0;position: absolute;width: 1px;}#sk-container-id-1 div.sk-estimator {font-family: monospace;background-color: #f0f8ff;border: 1px dotted black;border-radius: 0.25em;box-sizing: border-box;margin-bottom: 0.5em;}#sk-container-id-1 div.sk-estimator:hover {background-color: #d4ebff;}#sk-container-id-1 div.sk-parallel-item::after {content: \"\";width: 100%;border-bottom: 1px solid gray;flex-grow: 1;}#sk-container-id-1 div.sk-label:hover label.sk-toggleable__label {background-color: #d4ebff;}#sk-container-id-1 div.sk-serial::before {content: \"\";position: absolute;border-left: 1px solid gray;box-sizing: border-box;top: 0;bottom: 0;left: 50%;z-index: 0;}#sk-container-id-1 div.sk-serial {display: flex;flex-direction: column;align-items: center;background-color: white;padding-right: 0.2em;padding-left: 0.2em;position: relative;}#sk-container-id-1 div.sk-item {position: relative;z-index: 1;}#sk-container-id-1 div.sk-parallel {display: flex;align-items: stretch;justify-content: center;background-color: white;position: relative;}#sk-container-id-1 div.sk-item::before, #sk-container-id-1 div.sk-parallel-item::before {content: \"\";position: absolute;border-left: 1px solid gray;box-sizing: border-box;top: 0;bottom: 0;left: 50%;z-index: -1;}#sk-container-id-1 div.sk-parallel-item {display: flex;flex-direction: column;z-index: 1;position: relative;background-color: white;}#sk-container-id-1 div.sk-parallel-item:first-child::after {align-self: flex-end;width: 50%;}#sk-container-id-1 div.sk-parallel-item:last-child::after {align-self: flex-start;width: 50%;}#sk-container-id-1 div.sk-parallel-item:only-child::after {width: 0;}#sk-container-id-1 div.sk-dashed-wrapped {border: 1px dashed gray;margin: 0 0.4em 0.5em 0.4em;box-sizing: border-box;padding-bottom: 0.4em;background-color: white;}#sk-container-id-1 div.sk-label label {font-family: monospace;font-weight: bold;display: inline-block;line-height: 1.2em;}#sk-container-id-1 div.sk-label-container {text-align: center;}#sk-container-id-1 div.sk-container {/* jupyter's `normalize.less` sets `[hidden] { display: none; }` but bootstrap.min.css set `[hidden] { display: none !important; }` so we also need the `!important` here to be able to override the default hidden behavior on the sphinx rendered scikit-learn.org. See: https://github.com/scikit-learn/scikit-learn/issues/21755 */display: inline-block !important;position: relative;}#sk-container-id-1 div.sk-text-repr-fallback {display: none;}</style><div id=\"sk-container-id-1\" class=\"sk-top-container\"><div class=\"sk-text-repr-fallback\"><pre>KNeighborsClassifier(algorithm=&#x27;ball_tree&#x27;, leaf_size=3, metric=&#x27;manhattan&#x27;,\n",
       "                     n_neighbors=7)</pre><b>In a Jupyter environment, please rerun this cell to show the HTML representation or trust the notebook. <br />On GitHub, the HTML representation is unable to render, please try loading this page with nbviewer.org.</b></div><div class=\"sk-container\" hidden><div class=\"sk-item\"><div class=\"sk-estimator sk-toggleable\"><input class=\"sk-toggleable__control sk-hidden--visually\" id=\"sk-estimator-id-1\" type=\"checkbox\" checked><label for=\"sk-estimator-id-1\" class=\"sk-toggleable__label sk-toggleable__label-arrow\">KNeighborsClassifier</label><div class=\"sk-toggleable__content\"><pre>KNeighborsClassifier(algorithm=&#x27;ball_tree&#x27;, leaf_size=3, metric=&#x27;manhattan&#x27;,\n",
       "                     n_neighbors=7)</pre></div></div></div></div></div>"
      ],
      "text/plain": [
       "KNeighborsClassifier(algorithm='ball_tree', leaf_size=3, metric='manhattan',\n",
       "                     n_neighbors=7)"
      ]
     },
     "execution_count": 7,
     "metadata": {},
     "output_type": "execute_result"
    }
   ],
   "source": [
    "# Write your code here\n",
    "from sklearn.neighbors import KNeighborsClassifier\n",
    "knn_classifier = KNeighborsClassifier(n_neighbors=7, metric='manhattan', algorithm='ball_tree', leaf_size=3) # Creating the KNeighborsClassifier\n",
    "knn_classifier.fit(X_train_scaled, y_train) # Training the KNeighborsClassifier"
   ]
  },
  {
   "cell_type": "markdown",
   "id": "d9226586",
   "metadata": {},
   "source": [
    "### Evaluation on the training set (5 points)\n",
    "\n",
    "Now, evaluate the performance of your classifier using the confusion matrix. Compute and visualize the confusion matrix for our three classes"
   ]
  },
  {
   "cell_type": "code",
   "execution_count": 8,
   "id": "0f3b1bb0",
   "metadata": {},
   "outputs": [
    {
     "name": "stdout",
     "output_type": "stream",
     "text": [
      "Confusion matrix (training set):\n",
      " [[34  0  0]\n",
      " [ 0 31  2]\n",
      " [ 0  1 32]]\n"
     ]
    }
   ],
   "source": [
    "from sklearn.metrics import confusion_matrix\n",
    "# Write your code here\n",
    "y_train_pred = knn_classifier.predict(X_train_scaled)\n",
    "conf_matrix_train = confusion_matrix(y_train, y_train_pred)\n",
    "\n",
    "print(\"Confusion matrix (training set):\\n\", conf_matrix_train)"
   ]
  },
  {
   "cell_type": "markdown",
   "id": "8c83fe55",
   "metadata": {},
   "source": [
    "Compute precision, recall, and F1 score for each class prediction on the training set and print out a report."
   ]
  },
  {
   "cell_type": "code",
   "execution_count": 9,
   "id": "61ab2b0d",
   "metadata": {},
   "outputs": [
    {
     "name": "stdout",
     "output_type": "stream",
     "text": [
      "\n",
      "Classification report (training set):\n",
      "               precision    recall  f1-score   support\n",
      "\n",
      "           0       1.00      1.00      1.00        34\n",
      "           1       0.97      0.94      0.95        33\n",
      "           2       0.94      0.97      0.96        33\n",
      "\n",
      "    accuracy                           0.97       100\n",
      "   macro avg       0.97      0.97      0.97       100\n",
      "weighted avg       0.97      0.97      0.97       100\n",
      "\n"
     ]
    }
   ],
   "source": [
    "from sklearn.metrics import classification_report\n",
    "# Write your code here\n",
    "print(\"\\nClassification report (training set):\\n\", classification_report(y_train, y_train_pred))"
   ]
  },
  {
   "cell_type": "markdown",
   "id": "2b85a004",
   "metadata": {},
   "source": [
    "How does the result look like? Has anything been misclassified?\n",
    "\n",
    "Looking at the `target_names` key from the iris dataset (I did this at the beginning) I know that:\n",
    "\n",
    "* the label 0 is iris-setosa\n",
    "* the label 1 is iris-versicolor\n",
    "* the label 2 is iris-virginica\n",
    "\n",
    "For iris-setosa, I can see that all the labels were correctly classified since in the confusion matrix all of the classifications are in the first column. Also, the precision, recall, and F1 score are all one for Iris-Setosa which means that the K-Nearest Neighbours classifier correctly categorised the Iris-Setosa species.\n",
    "\n",
    "For iris-versicolor, I can see that in the confusion matrix there were two labels that were mis-classified as iris-virginica. This means that the classifier was not able to correctly categorize all of the iris-versicolor flowers in their correct category. This is why the f1-score is the lowest as compared to the other flower species (score of 0.95).\n",
    "\n",
    "For iris-virginica, I can see from the confusion matrix that one label was mis-classified as Iris-Versicolor. The numbers of mis-classifications for this flower species is less than the number of mis-classifications for iris-versicolor which is why the f1 score for iris-virginica is a bit higher than the f1 score of iris-versicolor.\n",
    "\n",
    "### Evaluation on the test set (5 points)\n",
    "\n",
    "Now make predictions on the test set, compute the confusion matrix for the test set. how does it compare to the one of the training set?"
   ]
  },
  {
   "cell_type": "code",
   "execution_count": 10,
   "id": "c5a1e90c",
   "metadata": {},
   "outputs": [
    {
     "name": "stdout",
     "output_type": "stream",
     "text": [
      "Confusion matrix (test set):\n",
      " [[16  0  0]\n",
      " [ 0 17  0]\n",
      " [ 0  3 14]]\n"
     ]
    }
   ],
   "source": [
    "# Write your code here\n",
    "y_test_pred = knn_classifier.predict(X_test_scaled)\n",
    "conf_matrix_test = confusion_matrix(y_test, y_test_pred)\n",
    "\n",
    "print(\"Confusion matrix (test set):\\n\", conf_matrix_test)"
   ]
  },
  {
   "cell_type": "markdown",
   "id": "921f28ca",
   "metadata": {},
   "source": [
    "Compute precision, recall, and F1 score for each class prediction on the test set and print out a report."
   ]
  },
  {
   "cell_type": "code",
   "execution_count": 11,
   "id": "77f74920",
   "metadata": {},
   "outputs": [
    {
     "name": "stdout",
     "output_type": "stream",
     "text": [
      "\n",
      "Classification report (test set):\n",
      "               precision    recall  f1-score   support\n",
      "\n",
      "           0       1.00      1.00      1.00        16\n",
      "           1       0.85      1.00      0.92        17\n",
      "           2       1.00      0.82      0.90        17\n",
      "\n",
      "    accuracy                           0.94        50\n",
      "   macro avg       0.95      0.94      0.94        50\n",
      "weighted avg       0.95      0.94      0.94        50\n",
      "\n"
     ]
    }
   ],
   "source": [
    "# Write your code here\n",
    "print(\"\\nClassification report (test set):\\n\", classification_report(y_test, y_test_pred))"
   ]
  },
  {
   "cell_type": "markdown",
   "id": "a1049a7c-9eba-4e2b-be18-81edcf0cb630",
   "metadata": {},
   "source": [
    "At first, I thought that the results of the test set are better than the training dataset (this was when I compared the confusion matrices). But after looking at the classification report of the test set I realise that the K-Nearest Neighbours classifier did not have that much accuracy in categorising the iris-versicolor and iris-virginica species. The categorisation of iris-setosa was the same (the f1 score was 1 in the test and training set classification report)\n",
    "\n",
    "If you look at the confusion matrix, you will see that iris-versicolor was correctly categorised and that there were no miss-categorisations of the iris-versicolor species. But you can see that when you look at the iris-virginica row that there were three labels that were incorrectly classified as iris-versicolor. \n",
    "\n",
    "Looking at the confusion matrix, I thought that the `knn_classifier` did a good job in categorising the labels but I was suprised to see the f1-score for iris-versicolor was lower when compared to the training dataset (the score dropped from 0.95 to 0.92). The f1-score score for iris-virginica also dropped (0.96 to 0.90) this was the biggest drop and it was due to the low recall score of 0.82."
   ]
  },
  {
   "cell_type": "markdown",
   "id": "f0d4e79c",
   "metadata": {},
   "source": [
    "## Part 2: Unsupervised Learning using K-Means (10 points)\n",
    "\n",
    "Train K-means clusterers on the entire iris dataset.\n",
    "\n",
    "Train clusters with 2 to 6 clusters and use one of the metrics discussed in week 7 to show which is the optimal number of clusters\n",
    "\n",
    "### Inertia/Silhouette Score Graph Analysis\n",
    "\n",
    "Looking at the graph I would say that the 3rd or 6th clusters would be the optimal cluster value. I say this because there appears to be a dratic change of 0.15 from the 2nd and 3rd cluster. The same difference of 0.15 occurs when you look at the chart difference between the 5th and 6th cluster."
   ]
  },
  {
   "cell_type": "code",
   "execution_count": 14,
   "id": "528d5470",
   "metadata": {},
   "outputs": [],
   "source": [
    "from sklearn.cluster import KMeans\n",
    "from sklearn.metrics import silhouette_score\n",
    "# Write your code here. Add as many cells as you need.\n",
    "\n",
    "# Training the K-means clusterers on the entire iris dataset\n",
    "silhouette_scores = []  # To store silhouette scores of the models\n",
    "for n_clusters in range(2, 7):\n",
    "    kmeans = KMeans(n_clusters=n_clusters, n_init=10, random_state=42)\n",
    "    kmeans.fit(X)\n",
    "    silhouette_scores.append(silhouette_score(X, kmeans.labels_))"
   ]
  },
  {
   "cell_type": "code",
   "execution_count": 13,
   "id": "bb684be6-4491-41db-983a-53ef2bbe8c3e",
   "metadata": {},
   "outputs": [
    {
     "data": {
      "image/png": "[encoded data removed]",
      "text/plain": [
       "<Figure size 1000x600 with 1 Axes>"
      ]
     },
     "metadata": {},
     "output_type": "display_data"
    }
   ],
   "source": [
    "# Ploting the inertia/silhouette scores\n",
    "plt.figure(figsize=(10, 6))\n",
    "plt.plot(range(2, 7), silhouette_scores, \"bo-\")\n",
    "plt.xlabel(\"$k$\", fontsize=14)\n",
    "plt.ylabel(\"Silhouette score\", fontsize=14)\n",
    "plt.show()"
   ]
  },
  {
   "cell_type": "markdown",
   "id": "496c356e",
   "metadata": {},
   "source": [
    "That's it. Congratulations, you have completed the second assignment!"
   ]
  }
 ],
 "metadata": {
  "kernelspec": {
   "display_name": "Python 3 (ipykernel)",
   "language": "python",
   "name": "python3"
  },
  "language_info": {
   "codemirror_mode": {
    "name": "ipython",
    "version": 3
   },
   "file_extension": ".py",
   "mimetype": "text/x-python",
   "name": "python",
   "nbconvert_exporter": "python",
   "pygments_lexer": "ipython3",
   "version": "3.11.5"
  },
  "vscode": {
   "interpreter": {
    "hash": "867df1ee534d26f2c7c906fca85dfba438b7170d4a41fa95ef57b9d1241c9022"
   }
  }
 },
 "nbformat": 4,
 "nbformat_minor": 5
}
